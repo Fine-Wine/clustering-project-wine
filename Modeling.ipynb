{
 "cells": [
  {
   "cell_type": "code",
   "execution_count": 223,
   "id": "2179e87f",
   "metadata": {},
   "outputs": [],
   "source": [
    "import pandas as pd\n",
    "import numpy as np\n",
    "import acquire as a\n",
    "import new_lib as nl\n",
    "import prepare as p\n",
    "from sklearn.preprocessing import MinMaxScaler\n",
    "import matplotlib.pyplot as plt\n",
    "from sklearn.cluster import KMeans\n",
    "import seaborn as sns\n",
    "from scipy.stats import ttest_ind\n",
    "from scipy.stats import ttest_1samp\n",
    "import warnings\n",
    "warnings.filterwarnings(\"ignore\")\n",
    "from itertools import combinations\n",
    "from sklearn.tree import DecisionTreeClassifier, plot_tree\n",
    "from sklearn.metrics import classification_report\n",
    "from sklearn.metrics import confusion_matrix\n",
    "from sklearn.ensemble import RandomForestClassifier\n",
    "from sklearn.linear_model import LogisticRegression\n",
    "from sklearn.neighbors import KNeighborsClassifier"
   ]
  },
  {
   "cell_type": "code",
   "execution_count": 224,
   "id": "e968d78a",
   "metadata": {},
   "outputs": [],
   "source": [
    "wine = a.acquire_wine()\n",
    "wine = p.prepare_wine(wine)\n",
    "wine = wine[['volatile_acidity', 'citric_acid', 'sugar', 'density', 'alcohol', 'quality']]\n",
    "# acquire and prepare the data using functions from acquire.py and prepare.py"
   ]
  },
  {
   "cell_type": "code",
   "execution_count": 227,
   "id": "cb9b0760",
   "metadata": {},
   "outputs": [],
   "source": [
    "scaler = MinMaxScaler()\n",
    " \n",
    "df_scaled = scaler.fit_transform(wine)\n",
    "df_scaled = pd.DataFrame(df_scaled, columns=['volatile_acidity', 'citric_acid', 'sugar', 'density', 'alcohol', 'quality'])"
   ]
  },
  {
   "cell_type": "code",
   "execution_count": 228,
   "id": "91e43a2f",
   "metadata": {},
   "outputs": [
    {
     "data": {
      "text/html": [
       "<div>\n",
       "<style scoped>\n",
       "    .dataframe tbody tr th:only-of-type {\n",
       "        vertical-align: middle;\n",
       "    }\n",
       "\n",
       "    .dataframe tbody tr th {\n",
       "        vertical-align: top;\n",
       "    }\n",
       "\n",
       "    .dataframe thead th {\n",
       "        text-align: right;\n",
       "    }\n",
       "</style>\n",
       "<table border=\"1\" class=\"dataframe\">\n",
       "  <thead>\n",
       "    <tr style=\"text-align: right;\">\n",
       "      <th></th>\n",
       "      <th>volatile_acidity</th>\n",
       "      <th>citric_acid</th>\n",
       "      <th>sugar</th>\n",
       "      <th>density</th>\n",
       "      <th>alcohol</th>\n",
       "      <th>quality</th>\n",
       "    </tr>\n",
       "  </thead>\n",
       "  <tbody>\n",
       "    <tr>\n",
       "      <th>0</th>\n",
       "      <td>0.413333</td>\n",
       "      <td>0.000000</td>\n",
       "      <td>0.019939</td>\n",
       "      <td>0.206092</td>\n",
       "      <td>0.202899</td>\n",
       "      <td>0.333333</td>\n",
       "    </tr>\n",
       "    <tr>\n",
       "      <th>1</th>\n",
       "      <td>0.533333</td>\n",
       "      <td>0.000000</td>\n",
       "      <td>0.030675</td>\n",
       "      <td>0.186813</td>\n",
       "      <td>0.260870</td>\n",
       "      <td>0.333333</td>\n",
       "    </tr>\n",
       "    <tr>\n",
       "      <th>2</th>\n",
       "      <td>0.453333</td>\n",
       "      <td>0.024096</td>\n",
       "      <td>0.026074</td>\n",
       "      <td>0.190669</td>\n",
       "      <td>0.260870</td>\n",
       "      <td>0.333333</td>\n",
       "    </tr>\n",
       "    <tr>\n",
       "      <th>3</th>\n",
       "      <td>0.133333</td>\n",
       "      <td>0.337349</td>\n",
       "      <td>0.019939</td>\n",
       "      <td>0.209948</td>\n",
       "      <td>0.260870</td>\n",
       "      <td>0.500000</td>\n",
       "    </tr>\n",
       "    <tr>\n",
       "      <th>4</th>\n",
       "      <td>0.413333</td>\n",
       "      <td>0.000000</td>\n",
       "      <td>0.019939</td>\n",
       "      <td>0.206092</td>\n",
       "      <td>0.202899</td>\n",
       "      <td>0.333333</td>\n",
       "    </tr>\n",
       "  </tbody>\n",
       "</table>\n",
       "</div>"
      ],
      "text/plain": [
       "   volatile_acidity  citric_acid     sugar   density   alcohol   quality\n",
       "0          0.413333     0.000000  0.019939  0.206092  0.202899  0.333333\n",
       "1          0.533333     0.000000  0.030675  0.186813  0.260870  0.333333\n",
       "2          0.453333     0.024096  0.026074  0.190669  0.260870  0.333333\n",
       "3          0.133333     0.337349  0.019939  0.209948  0.260870  0.500000\n",
       "4          0.413333     0.000000  0.019939  0.206092  0.202899  0.333333"
      ]
     },
     "execution_count": 228,
     "metadata": {},
     "output_type": "execute_result"
    }
   ],
   "source": [
    "df_scaled.head()"
   ]
  },
  {
   "cell_type": "code",
   "execution_count": 229,
   "id": "26ca8844",
   "metadata": {},
   "outputs": [
    {
     "data": {
      "text/html": [
       "<div>\n",
       "<style scoped>\n",
       "    .dataframe tbody tr th:only-of-type {\n",
       "        vertical-align: middle;\n",
       "    }\n",
       "\n",
       "    .dataframe tbody tr th {\n",
       "        vertical-align: top;\n",
       "    }\n",
       "\n",
       "    .dataframe thead th {\n",
       "        text-align: right;\n",
       "    }\n",
       "</style>\n",
       "<table border=\"1\" class=\"dataframe\">\n",
       "  <thead>\n",
       "    <tr style=\"text-align: right;\">\n",
       "      <th></th>\n",
       "      <th>volatile_acidity</th>\n",
       "      <th>citric_acid</th>\n",
       "      <th>sugar</th>\n",
       "      <th>density</th>\n",
       "      <th>alcohol</th>\n",
       "      <th>quality</th>\n",
       "      <th>v_a</th>\n",
       "    </tr>\n",
       "  </thead>\n",
       "  <tbody>\n",
       "    <tr>\n",
       "      <th>0</th>\n",
       "      <td>0.70</td>\n",
       "      <td>0.00</td>\n",
       "      <td>1.9</td>\n",
       "      <td>0.9978</td>\n",
       "      <td>9.4</td>\n",
       "      <td>5</td>\n",
       "      <td>1</td>\n",
       "    </tr>\n",
       "    <tr>\n",
       "      <th>1</th>\n",
       "      <td>0.88</td>\n",
       "      <td>0.00</td>\n",
       "      <td>2.6</td>\n",
       "      <td>0.9968</td>\n",
       "      <td>9.8</td>\n",
       "      <td>5</td>\n",
       "      <td>1</td>\n",
       "    </tr>\n",
       "    <tr>\n",
       "      <th>2</th>\n",
       "      <td>0.76</td>\n",
       "      <td>0.04</td>\n",
       "      <td>2.3</td>\n",
       "      <td>0.9970</td>\n",
       "      <td>9.8</td>\n",
       "      <td>5</td>\n",
       "      <td>1</td>\n",
       "    </tr>\n",
       "    <tr>\n",
       "      <th>3</th>\n",
       "      <td>0.28</td>\n",
       "      <td>0.56</td>\n",
       "      <td>1.9</td>\n",
       "      <td>0.9980</td>\n",
       "      <td>9.8</td>\n",
       "      <td>6</td>\n",
       "      <td>1</td>\n",
       "    </tr>\n",
       "    <tr>\n",
       "      <th>4</th>\n",
       "      <td>0.70</td>\n",
       "      <td>0.00</td>\n",
       "      <td>1.9</td>\n",
       "      <td>0.9978</td>\n",
       "      <td>9.4</td>\n",
       "      <td>5</td>\n",
       "      <td>1</td>\n",
       "    </tr>\n",
       "  </tbody>\n",
       "</table>\n",
       "</div>"
      ],
      "text/plain": [
       "   volatile_acidity  citric_acid  sugar  density  alcohol  quality  v_a\n",
       "0              0.70         0.00    1.9   0.9978      9.4        5    1\n",
       "1              0.88         0.00    2.6   0.9968      9.8        5    1\n",
       "2              0.76         0.04    2.3   0.9970      9.8        5    1\n",
       "3              0.28         0.56    1.9   0.9980      9.8        6    1\n",
       "4              0.70         0.00    1.9   0.9978      9.4        5    1"
      ]
     },
     "execution_count": 229,
     "metadata": {},
     "output_type": "execute_result"
    }
   ],
   "source": [
    "X = wine[['volatile_acidity', 'alcohol']]\n",
    "kmeans = KMeans(n_clusters=3, random_state = 77)\n",
    "kmeans.fit(X)\n",
    "kmeans.predict(X)\n",
    "# creating a kmeans and fitting it\n",
    "wine['v_a'] = kmeans.predict(X)\n",
    "# predicitons for the clusters\n",
    "wine.head()"
   ]
  },
  {
   "cell_type": "code",
   "execution_count": 230,
   "id": "93edf326",
   "metadata": {},
   "outputs": [
    {
     "data": {
      "text/html": [
       "<div>\n",
       "<style scoped>\n",
       "    .dataframe tbody tr th:only-of-type {\n",
       "        vertical-align: middle;\n",
       "    }\n",
       "\n",
       "    .dataframe tbody tr th {\n",
       "        vertical-align: top;\n",
       "    }\n",
       "\n",
       "    .dataframe thead th {\n",
       "        text-align: right;\n",
       "    }\n",
       "</style>\n",
       "<table border=\"1\" class=\"dataframe\">\n",
       "  <thead>\n",
       "    <tr style=\"text-align: right;\">\n",
       "      <th></th>\n",
       "      <th>volatile_acidity</th>\n",
       "      <th>citric_acid</th>\n",
       "      <th>sugar</th>\n",
       "      <th>density</th>\n",
       "      <th>alcohol</th>\n",
       "      <th>quality</th>\n",
       "      <th>v_a</th>\n",
       "      <th>d_a</th>\n",
       "    </tr>\n",
       "  </thead>\n",
       "  <tbody>\n",
       "    <tr>\n",
       "      <th>0</th>\n",
       "      <td>0.70</td>\n",
       "      <td>0.00</td>\n",
       "      <td>1.9</td>\n",
       "      <td>0.9978</td>\n",
       "      <td>9.4</td>\n",
       "      <td>5</td>\n",
       "      <td>1</td>\n",
       "      <td>0</td>\n",
       "    </tr>\n",
       "    <tr>\n",
       "      <th>1</th>\n",
       "      <td>0.88</td>\n",
       "      <td>0.00</td>\n",
       "      <td>2.6</td>\n",
       "      <td>0.9968</td>\n",
       "      <td>9.8</td>\n",
       "      <td>5</td>\n",
       "      <td>1</td>\n",
       "      <td>0</td>\n",
       "    </tr>\n",
       "    <tr>\n",
       "      <th>2</th>\n",
       "      <td>0.76</td>\n",
       "      <td>0.04</td>\n",
       "      <td>2.3</td>\n",
       "      <td>0.9970</td>\n",
       "      <td>9.8</td>\n",
       "      <td>5</td>\n",
       "      <td>1</td>\n",
       "      <td>0</td>\n",
       "    </tr>\n",
       "    <tr>\n",
       "      <th>3</th>\n",
       "      <td>0.28</td>\n",
       "      <td>0.56</td>\n",
       "      <td>1.9</td>\n",
       "      <td>0.9980</td>\n",
       "      <td>9.8</td>\n",
       "      <td>6</td>\n",
       "      <td>1</td>\n",
       "      <td>0</td>\n",
       "    </tr>\n",
       "    <tr>\n",
       "      <th>4</th>\n",
       "      <td>0.70</td>\n",
       "      <td>0.00</td>\n",
       "      <td>1.9</td>\n",
       "      <td>0.9978</td>\n",
       "      <td>9.4</td>\n",
       "      <td>5</td>\n",
       "      <td>1</td>\n",
       "      <td>0</td>\n",
       "    </tr>\n",
       "  </tbody>\n",
       "</table>\n",
       "</div>"
      ],
      "text/plain": [
       "   volatile_acidity  citric_acid  sugar  density  alcohol  quality  v_a  d_a\n",
       "0              0.70         0.00    1.9   0.9978      9.4        5    1    0\n",
       "1              0.88         0.00    2.6   0.9968      9.8        5    1    0\n",
       "2              0.76         0.04    2.3   0.9970      9.8        5    1    0\n",
       "3              0.28         0.56    1.9   0.9980      9.8        6    1    0\n",
       "4              0.70         0.00    1.9   0.9978      9.4        5    1    0"
      ]
     },
     "execution_count": 230,
     "metadata": {},
     "output_type": "execute_result"
    }
   ],
   "source": [
    "Y = wine[['density', 'alcohol']]\n",
    "kmeans = KMeans(n_clusters=3, random_state = 42)\n",
    "kmeans.fit(Y)\n",
    "kmeans.predict(Y)\n",
    "# creating a kmeans and fitting it\n",
    "wine['d_a'] = kmeans.predict(Y)\n",
    "# predicitons for the clusters\n",
    "wine.head()"
   ]
  },
  {
   "cell_type": "code",
   "execution_count": 231,
   "id": "5bdeaac0",
   "metadata": {},
   "outputs": [
    {
     "data": {
      "text/html": [
       "<div>\n",
       "<style scoped>\n",
       "    .dataframe tbody tr th:only-of-type {\n",
       "        vertical-align: middle;\n",
       "    }\n",
       "\n",
       "    .dataframe tbody tr th {\n",
       "        vertical-align: top;\n",
       "    }\n",
       "\n",
       "    .dataframe thead th {\n",
       "        text-align: right;\n",
       "    }\n",
       "</style>\n",
       "<table border=\"1\" class=\"dataframe\">\n",
       "  <thead>\n",
       "    <tr style=\"text-align: right;\">\n",
       "      <th></th>\n",
       "      <th>volatile_acidity</th>\n",
       "      <th>citric_acid</th>\n",
       "      <th>sugar</th>\n",
       "      <th>density</th>\n",
       "      <th>alcohol</th>\n",
       "      <th>quality</th>\n",
       "      <th>v_a</th>\n",
       "      <th>d_a</th>\n",
       "      <th>s_d</th>\n",
       "    </tr>\n",
       "  </thead>\n",
       "  <tbody>\n",
       "    <tr>\n",
       "      <th>0</th>\n",
       "      <td>0.70</td>\n",
       "      <td>0.00</td>\n",
       "      <td>1.9</td>\n",
       "      <td>0.9978</td>\n",
       "      <td>9.4</td>\n",
       "      <td>5</td>\n",
       "      <td>1</td>\n",
       "      <td>0</td>\n",
       "      <td>0</td>\n",
       "    </tr>\n",
       "    <tr>\n",
       "      <th>1</th>\n",
       "      <td>0.88</td>\n",
       "      <td>0.00</td>\n",
       "      <td>2.6</td>\n",
       "      <td>0.9968</td>\n",
       "      <td>9.8</td>\n",
       "      <td>5</td>\n",
       "      <td>1</td>\n",
       "      <td>0</td>\n",
       "      <td>0</td>\n",
       "    </tr>\n",
       "    <tr>\n",
       "      <th>2</th>\n",
       "      <td>0.76</td>\n",
       "      <td>0.04</td>\n",
       "      <td>2.3</td>\n",
       "      <td>0.9970</td>\n",
       "      <td>9.8</td>\n",
       "      <td>5</td>\n",
       "      <td>1</td>\n",
       "      <td>0</td>\n",
       "      <td>0</td>\n",
       "    </tr>\n",
       "    <tr>\n",
       "      <th>3</th>\n",
       "      <td>0.28</td>\n",
       "      <td>0.56</td>\n",
       "      <td>1.9</td>\n",
       "      <td>0.9980</td>\n",
       "      <td>9.8</td>\n",
       "      <td>6</td>\n",
       "      <td>1</td>\n",
       "      <td>0</td>\n",
       "      <td>0</td>\n",
       "    </tr>\n",
       "    <tr>\n",
       "      <th>4</th>\n",
       "      <td>0.70</td>\n",
       "      <td>0.00</td>\n",
       "      <td>1.9</td>\n",
       "      <td>0.9978</td>\n",
       "      <td>9.4</td>\n",
       "      <td>5</td>\n",
       "      <td>1</td>\n",
       "      <td>0</td>\n",
       "      <td>0</td>\n",
       "    </tr>\n",
       "  </tbody>\n",
       "</table>\n",
       "</div>"
      ],
      "text/plain": [
       "   volatile_acidity  citric_acid  sugar  density  alcohol  quality  v_a  d_a  \\\n",
       "0              0.70         0.00    1.9   0.9978      9.4        5    1    0   \n",
       "1              0.88         0.00    2.6   0.9968      9.8        5    1    0   \n",
       "2              0.76         0.04    2.3   0.9970      9.8        5    1    0   \n",
       "3              0.28         0.56    1.9   0.9980      9.8        6    1    0   \n",
       "4              0.70         0.00    1.9   0.9978      9.4        5    1    0   \n",
       "\n",
       "   s_d  \n",
       "0    0  \n",
       "1    0  \n",
       "2    0  \n",
       "3    0  \n",
       "4    0  "
      ]
     },
     "execution_count": 231,
     "metadata": {},
     "output_type": "execute_result"
    }
   ],
   "source": [
    "Z = wine[['sugar', 'density']]\n",
    "kmeans = KMeans(n_clusters=3, random_state = 41)\n",
    "kmeans.fit(Z)\n",
    "kmeans.predict(Z)\n",
    "# creating a kmeans and fitting it\n",
    "wine['s_d'] = kmeans.predict(Z)\n",
    "# predicitons for the clusters\n",
    "wine.head()"
   ]
  },
  {
   "cell_type": "code",
   "execution_count": 232,
   "id": "1df8e36f",
   "metadata": {},
   "outputs": [
    {
     "data": {
      "text/html": [
       "<div>\n",
       "<style scoped>\n",
       "    .dataframe tbody tr th:only-of-type {\n",
       "        vertical-align: middle;\n",
       "    }\n",
       "\n",
       "    .dataframe tbody tr th {\n",
       "        vertical-align: top;\n",
       "    }\n",
       "\n",
       "    .dataframe thead th {\n",
       "        text-align: right;\n",
       "    }\n",
       "</style>\n",
       "<table border=\"1\" class=\"dataframe\">\n",
       "  <thead>\n",
       "    <tr style=\"text-align: right;\">\n",
       "      <th></th>\n",
       "      <th>volatile_acidity</th>\n",
       "      <th>citric_acid</th>\n",
       "      <th>sugar</th>\n",
       "      <th>density</th>\n",
       "      <th>alcohol</th>\n",
       "      <th>quality</th>\n",
       "      <th>v_a</th>\n",
       "      <th>d_a</th>\n",
       "      <th>s_d</th>\n",
       "      <th>v_c</th>\n",
       "    </tr>\n",
       "  </thead>\n",
       "  <tbody>\n",
       "    <tr>\n",
       "      <th>0</th>\n",
       "      <td>0.70</td>\n",
       "      <td>0.00</td>\n",
       "      <td>1.9</td>\n",
       "      <td>0.9978</td>\n",
       "      <td>9.4</td>\n",
       "      <td>5</td>\n",
       "      <td>1</td>\n",
       "      <td>0</td>\n",
       "      <td>0</td>\n",
       "      <td>2</td>\n",
       "    </tr>\n",
       "    <tr>\n",
       "      <th>1</th>\n",
       "      <td>0.88</td>\n",
       "      <td>0.00</td>\n",
       "      <td>2.6</td>\n",
       "      <td>0.9968</td>\n",
       "      <td>9.8</td>\n",
       "      <td>5</td>\n",
       "      <td>1</td>\n",
       "      <td>0</td>\n",
       "      <td>0</td>\n",
       "      <td>2</td>\n",
       "    </tr>\n",
       "    <tr>\n",
       "      <th>2</th>\n",
       "      <td>0.76</td>\n",
       "      <td>0.04</td>\n",
       "      <td>2.3</td>\n",
       "      <td>0.9970</td>\n",
       "      <td>9.8</td>\n",
       "      <td>5</td>\n",
       "      <td>1</td>\n",
       "      <td>0</td>\n",
       "      <td>0</td>\n",
       "      <td>2</td>\n",
       "    </tr>\n",
       "    <tr>\n",
       "      <th>3</th>\n",
       "      <td>0.28</td>\n",
       "      <td>0.56</td>\n",
       "      <td>1.9</td>\n",
       "      <td>0.9980</td>\n",
       "      <td>9.8</td>\n",
       "      <td>6</td>\n",
       "      <td>1</td>\n",
       "      <td>0</td>\n",
       "      <td>0</td>\n",
       "      <td>0</td>\n",
       "    </tr>\n",
       "    <tr>\n",
       "      <th>4</th>\n",
       "      <td>0.70</td>\n",
       "      <td>0.00</td>\n",
       "      <td>1.9</td>\n",
       "      <td>0.9978</td>\n",
       "      <td>9.4</td>\n",
       "      <td>5</td>\n",
       "      <td>1</td>\n",
       "      <td>0</td>\n",
       "      <td>0</td>\n",
       "      <td>2</td>\n",
       "    </tr>\n",
       "  </tbody>\n",
       "</table>\n",
       "</div>"
      ],
      "text/plain": [
       "   volatile_acidity  citric_acid  sugar  density  alcohol  quality  v_a  d_a  \\\n",
       "0              0.70         0.00    1.9   0.9978      9.4        5    1    0   \n",
       "1              0.88         0.00    2.6   0.9968      9.8        5    1    0   \n",
       "2              0.76         0.04    2.3   0.9970      9.8        5    1    0   \n",
       "3              0.28         0.56    1.9   0.9980      9.8        6    1    0   \n",
       "4              0.70         0.00    1.9   0.9978      9.4        5    1    0   \n",
       "\n",
       "   s_d  v_c  \n",
       "0    0    2  \n",
       "1    0    2  \n",
       "2    0    2  \n",
       "3    0    0  \n",
       "4    0    2  "
      ]
     },
     "execution_count": 232,
     "metadata": {},
     "output_type": "execute_result"
    }
   ],
   "source": [
    "A = wine[['volatile_acidity', 'citric_acid']]\n",
    "kmeans = KMeans(n_clusters=3, random_state = 12)\n",
    "kmeans.fit(A)\n",
    "kmeans.predict(A)\n",
    "# creating a kmeans and fitting it\n",
    "wine['v_c'] = kmeans.predict(A)\n",
    "# predicitons for the clusters\n",
    "wine.head()"
   ]
  },
  {
   "cell_type": "code",
   "execution_count": 233,
   "id": "e6811e3a",
   "metadata": {},
   "outputs": [
    {
     "data": {
      "text/html": [
       "<div>\n",
       "<style scoped>\n",
       "    .dataframe tbody tr th:only-of-type {\n",
       "        vertical-align: middle;\n",
       "    }\n",
       "\n",
       "    .dataframe tbody tr th {\n",
       "        vertical-align: top;\n",
       "    }\n",
       "\n",
       "    .dataframe thead th {\n",
       "        text-align: right;\n",
       "    }\n",
       "</style>\n",
       "<table border=\"1\" class=\"dataframe\">\n",
       "  <thead>\n",
       "    <tr style=\"text-align: right;\">\n",
       "      <th></th>\n",
       "      <th>0</th>\n",
       "      <th>1</th>\n",
       "      <th>2</th>\n",
       "    </tr>\n",
       "  </thead>\n",
       "  <tbody>\n",
       "    <tr>\n",
       "      <th>0</th>\n",
       "      <td>0</td>\n",
       "      <td>1</td>\n",
       "      <td>0</td>\n",
       "    </tr>\n",
       "    <tr>\n",
       "      <th>1</th>\n",
       "      <td>0</td>\n",
       "      <td>1</td>\n",
       "      <td>0</td>\n",
       "    </tr>\n",
       "    <tr>\n",
       "      <th>2</th>\n",
       "      <td>0</td>\n",
       "      <td>1</td>\n",
       "      <td>0</td>\n",
       "    </tr>\n",
       "    <tr>\n",
       "      <th>3</th>\n",
       "      <td>0</td>\n",
       "      <td>1</td>\n",
       "      <td>0</td>\n",
       "    </tr>\n",
       "    <tr>\n",
       "      <th>4</th>\n",
       "      <td>0</td>\n",
       "      <td>1</td>\n",
       "      <td>0</td>\n",
       "    </tr>\n",
       "    <tr>\n",
       "      <th>...</th>\n",
       "      <td>...</td>\n",
       "      <td>...</td>\n",
       "      <td>...</td>\n",
       "    </tr>\n",
       "    <tr>\n",
       "      <th>6492</th>\n",
       "      <td>1</td>\n",
       "      <td>0</td>\n",
       "      <td>0</td>\n",
       "    </tr>\n",
       "    <tr>\n",
       "      <th>6493</th>\n",
       "      <td>0</td>\n",
       "      <td>1</td>\n",
       "      <td>0</td>\n",
       "    </tr>\n",
       "    <tr>\n",
       "      <th>6494</th>\n",
       "      <td>0</td>\n",
       "      <td>1</td>\n",
       "      <td>0</td>\n",
       "    </tr>\n",
       "    <tr>\n",
       "      <th>6495</th>\n",
       "      <td>0</td>\n",
       "      <td>0</td>\n",
       "      <td>1</td>\n",
       "    </tr>\n",
       "    <tr>\n",
       "      <th>6496</th>\n",
       "      <td>0</td>\n",
       "      <td>0</td>\n",
       "      <td>1</td>\n",
       "    </tr>\n",
       "  </tbody>\n",
       "</table>\n",
       "<p>6497 rows × 3 columns</p>\n",
       "</div>"
      ],
      "text/plain": [
       "      0  1  2\n",
       "0     0  1  0\n",
       "1     0  1  0\n",
       "2     0  1  0\n",
       "3     0  1  0\n",
       "4     0  1  0\n",
       "...  .. .. ..\n",
       "6492  1  0  0\n",
       "6493  0  1  0\n",
       "6494  0  1  0\n",
       "6495  0  0  1\n",
       "6496  0  0  1\n",
       "\n",
       "[6497 rows x 3 columns]"
      ]
     },
     "execution_count": 233,
     "metadata": {},
     "output_type": "execute_result"
    }
   ],
   "source": [
    "a = pd.get_dummies(wine.v_a)\n",
    "a"
   ]
  },
  {
   "cell_type": "code",
   "execution_count": 234,
   "id": "218f4803",
   "metadata": {},
   "outputs": [],
   "source": [
    "b = pd.get_dummies(wine.d_a)\n",
    "c = pd.get_dummies(wine.s_d)\n",
    "d = pd.get_dummies(wine.v_c)"
   ]
  },
  {
   "cell_type": "code",
   "execution_count": 235,
   "id": "4433fed1",
   "metadata": {},
   "outputs": [],
   "source": [
    "a = a.rename(columns = {0: 'v_a1', 1: 'v_a2', 2:'v_a3'})\n",
    "b = b.rename(columns = {0: 'd_a1', 1: 'd_a2', 2:'d_a3'})\n",
    "c = c.rename(columns = {0: 's_d1', 1: 's_d2', 2:'s_d3'})\n",
    "d = d.rename(columns = {0: 'v_c1', 1: 'v_c2', 2:'v_c3'})"
   ]
  },
  {
   "cell_type": "code",
   "execution_count": 236,
   "id": "0e375b1a",
   "metadata": {},
   "outputs": [],
   "source": [
    "wine = pd.concat([wine,a,b,c,d], axis = 1)"
   ]
  },
  {
   "cell_type": "code",
   "execution_count": 237,
   "id": "751b41ed",
   "metadata": {},
   "outputs": [],
   "source": [
    "wine = wine.drop(columns = ['volatile_acidity', 'citric_acid', 'sugar', 'density', 'alcohol', 'v_a', 'd_a', 's_d', 'v_c'])"
   ]
  },
  {
   "cell_type": "code",
   "execution_count": 238,
   "id": "eb932705",
   "metadata": {},
   "outputs": [
    {
     "data": {
      "text/html": [
       "<div>\n",
       "<style scoped>\n",
       "    .dataframe tbody tr th:only-of-type {\n",
       "        vertical-align: middle;\n",
       "    }\n",
       "\n",
       "    .dataframe tbody tr th {\n",
       "        vertical-align: top;\n",
       "    }\n",
       "\n",
       "    .dataframe thead th {\n",
       "        text-align: right;\n",
       "    }\n",
       "</style>\n",
       "<table border=\"1\" class=\"dataframe\">\n",
       "  <thead>\n",
       "    <tr style=\"text-align: right;\">\n",
       "      <th></th>\n",
       "      <th>quality</th>\n",
       "      <th>v_a1</th>\n",
       "      <th>v_a2</th>\n",
       "      <th>v_a3</th>\n",
       "      <th>d_a1</th>\n",
       "      <th>d_a2</th>\n",
       "      <th>d_a3</th>\n",
       "      <th>s_d1</th>\n",
       "      <th>s_d2</th>\n",
       "      <th>s_d3</th>\n",
       "      <th>v_c1</th>\n",
       "      <th>v_c2</th>\n",
       "      <th>v_c3</th>\n",
       "      <th>qual</th>\n",
       "    </tr>\n",
       "  </thead>\n",
       "  <tbody>\n",
       "    <tr>\n",
       "      <th>0</th>\n",
       "      <td>5</td>\n",
       "      <td>0</td>\n",
       "      <td>1</td>\n",
       "      <td>0</td>\n",
       "      <td>1</td>\n",
       "      <td>0</td>\n",
       "      <td>0</td>\n",
       "      <td>1</td>\n",
       "      <td>0</td>\n",
       "      <td>0</td>\n",
       "      <td>0</td>\n",
       "      <td>0</td>\n",
       "      <td>1</td>\n",
       "      <td>False</td>\n",
       "    </tr>\n",
       "    <tr>\n",
       "      <th>1</th>\n",
       "      <td>5</td>\n",
       "      <td>0</td>\n",
       "      <td>1</td>\n",
       "      <td>0</td>\n",
       "      <td>1</td>\n",
       "      <td>0</td>\n",
       "      <td>0</td>\n",
       "      <td>1</td>\n",
       "      <td>0</td>\n",
       "      <td>0</td>\n",
       "      <td>0</td>\n",
       "      <td>0</td>\n",
       "      <td>1</td>\n",
       "      <td>False</td>\n",
       "    </tr>\n",
       "    <tr>\n",
       "      <th>2</th>\n",
       "      <td>5</td>\n",
       "      <td>0</td>\n",
       "      <td>1</td>\n",
       "      <td>0</td>\n",
       "      <td>1</td>\n",
       "      <td>0</td>\n",
       "      <td>0</td>\n",
       "      <td>1</td>\n",
       "      <td>0</td>\n",
       "      <td>0</td>\n",
       "      <td>0</td>\n",
       "      <td>0</td>\n",
       "      <td>1</td>\n",
       "      <td>False</td>\n",
       "    </tr>\n",
       "    <tr>\n",
       "      <th>3</th>\n",
       "      <td>6</td>\n",
       "      <td>0</td>\n",
       "      <td>1</td>\n",
       "      <td>0</td>\n",
       "      <td>1</td>\n",
       "      <td>0</td>\n",
       "      <td>0</td>\n",
       "      <td>1</td>\n",
       "      <td>0</td>\n",
       "      <td>0</td>\n",
       "      <td>1</td>\n",
       "      <td>0</td>\n",
       "      <td>0</td>\n",
       "      <td>True</td>\n",
       "    </tr>\n",
       "    <tr>\n",
       "      <th>4</th>\n",
       "      <td>5</td>\n",
       "      <td>0</td>\n",
       "      <td>1</td>\n",
       "      <td>0</td>\n",
       "      <td>1</td>\n",
       "      <td>0</td>\n",
       "      <td>0</td>\n",
       "      <td>1</td>\n",
       "      <td>0</td>\n",
       "      <td>0</td>\n",
       "      <td>0</td>\n",
       "      <td>0</td>\n",
       "      <td>1</td>\n",
       "      <td>False</td>\n",
       "    </tr>\n",
       "    <tr>\n",
       "      <th>...</th>\n",
       "      <td>...</td>\n",
       "      <td>...</td>\n",
       "      <td>...</td>\n",
       "      <td>...</td>\n",
       "      <td>...</td>\n",
       "      <td>...</td>\n",
       "      <td>...</td>\n",
       "      <td>...</td>\n",
       "      <td>...</td>\n",
       "      <td>...</td>\n",
       "      <td>...</td>\n",
       "      <td>...</td>\n",
       "      <td>...</td>\n",
       "      <td>...</td>\n",
       "    </tr>\n",
       "    <tr>\n",
       "      <th>6492</th>\n",
       "      <td>6</td>\n",
       "      <td>1</td>\n",
       "      <td>0</td>\n",
       "      <td>0</td>\n",
       "      <td>0</td>\n",
       "      <td>1</td>\n",
       "      <td>0</td>\n",
       "      <td>1</td>\n",
       "      <td>0</td>\n",
       "      <td>0</td>\n",
       "      <td>0</td>\n",
       "      <td>1</td>\n",
       "      <td>0</td>\n",
       "      <td>True</td>\n",
       "    </tr>\n",
       "    <tr>\n",
       "      <th>6493</th>\n",
       "      <td>5</td>\n",
       "      <td>0</td>\n",
       "      <td>1</td>\n",
       "      <td>0</td>\n",
       "      <td>1</td>\n",
       "      <td>0</td>\n",
       "      <td>0</td>\n",
       "      <td>0</td>\n",
       "      <td>0</td>\n",
       "      <td>1</td>\n",
       "      <td>0</td>\n",
       "      <td>1</td>\n",
       "      <td>0</td>\n",
       "      <td>False</td>\n",
       "    </tr>\n",
       "    <tr>\n",
       "      <th>6494</th>\n",
       "      <td>6</td>\n",
       "      <td>0</td>\n",
       "      <td>1</td>\n",
       "      <td>0</td>\n",
       "      <td>1</td>\n",
       "      <td>0</td>\n",
       "      <td>0</td>\n",
       "      <td>1</td>\n",
       "      <td>0</td>\n",
       "      <td>0</td>\n",
       "      <td>0</td>\n",
       "      <td>1</td>\n",
       "      <td>0</td>\n",
       "      <td>True</td>\n",
       "    </tr>\n",
       "    <tr>\n",
       "      <th>6495</th>\n",
       "      <td>7</td>\n",
       "      <td>0</td>\n",
       "      <td>0</td>\n",
       "      <td>1</td>\n",
       "      <td>0</td>\n",
       "      <td>0</td>\n",
       "      <td>1</td>\n",
       "      <td>1</td>\n",
       "      <td>0</td>\n",
       "      <td>0</td>\n",
       "      <td>0</td>\n",
       "      <td>1</td>\n",
       "      <td>0</td>\n",
       "      <td>True</td>\n",
       "    </tr>\n",
       "    <tr>\n",
       "      <th>6496</th>\n",
       "      <td>6</td>\n",
       "      <td>0</td>\n",
       "      <td>0</td>\n",
       "      <td>1</td>\n",
       "      <td>0</td>\n",
       "      <td>0</td>\n",
       "      <td>1</td>\n",
       "      <td>1</td>\n",
       "      <td>0</td>\n",
       "      <td>0</td>\n",
       "      <td>0</td>\n",
       "      <td>1</td>\n",
       "      <td>0</td>\n",
       "      <td>True</td>\n",
       "    </tr>\n",
       "  </tbody>\n",
       "</table>\n",
       "<p>6497 rows × 14 columns</p>\n",
       "</div>"
      ],
      "text/plain": [
       "      quality  v_a1  v_a2  v_a3  d_a1  d_a2  d_a3  s_d1  s_d2  s_d3  v_c1  \\\n",
       "0           5     0     1     0     1     0     0     1     0     0     0   \n",
       "1           5     0     1     0     1     0     0     1     0     0     0   \n",
       "2           5     0     1     0     1     0     0     1     0     0     0   \n",
       "3           6     0     1     0     1     0     0     1     0     0     1   \n",
       "4           5     0     1     0     1     0     0     1     0     0     0   \n",
       "...       ...   ...   ...   ...   ...   ...   ...   ...   ...   ...   ...   \n",
       "6492        6     1     0     0     0     1     0     1     0     0     0   \n",
       "6493        5     0     1     0     1     0     0     0     0     1     0   \n",
       "6494        6     0     1     0     1     0     0     1     0     0     0   \n",
       "6495        7     0     0     1     0     0     1     1     0     0     0   \n",
       "6496        6     0     0     1     0     0     1     1     0     0     0   \n",
       "\n",
       "      v_c2  v_c3   qual  \n",
       "0        0     1  False  \n",
       "1        0     1  False  \n",
       "2        0     1  False  \n",
       "3        0     0   True  \n",
       "4        0     1  False  \n",
       "...    ...   ...    ...  \n",
       "6492     1     0   True  \n",
       "6493     1     0  False  \n",
       "6494     1     0   True  \n",
       "6495     1     0   True  \n",
       "6496     1     0   True  \n",
       "\n",
       "[6497 rows x 14 columns]"
      ]
     },
     "execution_count": 238,
     "metadata": {},
     "output_type": "execute_result"
    }
   ],
   "source": [
    "wine['qual'] = wine['quality'] >= 6\n",
    "wine"
   ]
  },
  {
   "cell_type": "code",
   "execution_count": 239,
   "id": "6d41b3ef",
   "metadata": {},
   "outputs": [],
   "source": [
    "wine['qual'] = np.where(wine['qual'] == True, 1, 0)"
   ]
  },
  {
   "cell_type": "code",
   "execution_count": 240,
   "id": "fa91747b",
   "metadata": {},
   "outputs": [],
   "source": [
    "wine = wine.drop(columns = 'quality')"
   ]
  },
  {
   "cell_type": "code",
   "execution_count": 241,
   "id": "96ae094e",
   "metadata": {},
   "outputs": [],
   "source": [
    "wine = wine.rename(columns = {'qual': 'is_good'})"
   ]
  },
  {
   "cell_type": "code",
   "execution_count": 242,
   "id": "a206bb46",
   "metadata": {},
   "outputs": [
    {
     "data": {
      "text/html": [
       "<div>\n",
       "<style scoped>\n",
       "    .dataframe tbody tr th:only-of-type {\n",
       "        vertical-align: middle;\n",
       "    }\n",
       "\n",
       "    .dataframe tbody tr th {\n",
       "        vertical-align: top;\n",
       "    }\n",
       "\n",
       "    .dataframe thead th {\n",
       "        text-align: right;\n",
       "    }\n",
       "</style>\n",
       "<table border=\"1\" class=\"dataframe\">\n",
       "  <thead>\n",
       "    <tr style=\"text-align: right;\">\n",
       "      <th></th>\n",
       "      <th>v_a1</th>\n",
       "      <th>v_a2</th>\n",
       "      <th>v_a3</th>\n",
       "      <th>d_a1</th>\n",
       "      <th>d_a2</th>\n",
       "      <th>d_a3</th>\n",
       "      <th>s_d1</th>\n",
       "      <th>s_d2</th>\n",
       "      <th>s_d3</th>\n",
       "      <th>v_c1</th>\n",
       "      <th>v_c2</th>\n",
       "      <th>v_c3</th>\n",
       "      <th>is_good</th>\n",
       "    </tr>\n",
       "  </thead>\n",
       "  <tbody>\n",
       "    <tr>\n",
       "      <th>0</th>\n",
       "      <td>0</td>\n",
       "      <td>1</td>\n",
       "      <td>0</td>\n",
       "      <td>1</td>\n",
       "      <td>0</td>\n",
       "      <td>0</td>\n",
       "      <td>1</td>\n",
       "      <td>0</td>\n",
       "      <td>0</td>\n",
       "      <td>0</td>\n",
       "      <td>0</td>\n",
       "      <td>1</td>\n",
       "      <td>0</td>\n",
       "    </tr>\n",
       "    <tr>\n",
       "      <th>1</th>\n",
       "      <td>0</td>\n",
       "      <td>1</td>\n",
       "      <td>0</td>\n",
       "      <td>1</td>\n",
       "      <td>0</td>\n",
       "      <td>0</td>\n",
       "      <td>1</td>\n",
       "      <td>0</td>\n",
       "      <td>0</td>\n",
       "      <td>0</td>\n",
       "      <td>0</td>\n",
       "      <td>1</td>\n",
       "      <td>0</td>\n",
       "    </tr>\n",
       "    <tr>\n",
       "      <th>2</th>\n",
       "      <td>0</td>\n",
       "      <td>1</td>\n",
       "      <td>0</td>\n",
       "      <td>1</td>\n",
       "      <td>0</td>\n",
       "      <td>0</td>\n",
       "      <td>1</td>\n",
       "      <td>0</td>\n",
       "      <td>0</td>\n",
       "      <td>0</td>\n",
       "      <td>0</td>\n",
       "      <td>1</td>\n",
       "      <td>0</td>\n",
       "    </tr>\n",
       "    <tr>\n",
       "      <th>3</th>\n",
       "      <td>0</td>\n",
       "      <td>1</td>\n",
       "      <td>0</td>\n",
       "      <td>1</td>\n",
       "      <td>0</td>\n",
       "      <td>0</td>\n",
       "      <td>1</td>\n",
       "      <td>0</td>\n",
       "      <td>0</td>\n",
       "      <td>1</td>\n",
       "      <td>0</td>\n",
       "      <td>0</td>\n",
       "      <td>1</td>\n",
       "    </tr>\n",
       "    <tr>\n",
       "      <th>4</th>\n",
       "      <td>0</td>\n",
       "      <td>1</td>\n",
       "      <td>0</td>\n",
       "      <td>1</td>\n",
       "      <td>0</td>\n",
       "      <td>0</td>\n",
       "      <td>1</td>\n",
       "      <td>0</td>\n",
       "      <td>0</td>\n",
       "      <td>0</td>\n",
       "      <td>0</td>\n",
       "      <td>1</td>\n",
       "      <td>0</td>\n",
       "    </tr>\n",
       "    <tr>\n",
       "      <th>...</th>\n",
       "      <td>...</td>\n",
       "      <td>...</td>\n",
       "      <td>...</td>\n",
       "      <td>...</td>\n",
       "      <td>...</td>\n",
       "      <td>...</td>\n",
       "      <td>...</td>\n",
       "      <td>...</td>\n",
       "      <td>...</td>\n",
       "      <td>...</td>\n",
       "      <td>...</td>\n",
       "      <td>...</td>\n",
       "      <td>...</td>\n",
       "    </tr>\n",
       "    <tr>\n",
       "      <th>6492</th>\n",
       "      <td>1</td>\n",
       "      <td>0</td>\n",
       "      <td>0</td>\n",
       "      <td>0</td>\n",
       "      <td>1</td>\n",
       "      <td>0</td>\n",
       "      <td>1</td>\n",
       "      <td>0</td>\n",
       "      <td>0</td>\n",
       "      <td>0</td>\n",
       "      <td>1</td>\n",
       "      <td>0</td>\n",
       "      <td>1</td>\n",
       "    </tr>\n",
       "    <tr>\n",
       "      <th>6493</th>\n",
       "      <td>0</td>\n",
       "      <td>1</td>\n",
       "      <td>0</td>\n",
       "      <td>1</td>\n",
       "      <td>0</td>\n",
       "      <td>0</td>\n",
       "      <td>0</td>\n",
       "      <td>0</td>\n",
       "      <td>1</td>\n",
       "      <td>0</td>\n",
       "      <td>1</td>\n",
       "      <td>0</td>\n",
       "      <td>0</td>\n",
       "    </tr>\n",
       "    <tr>\n",
       "      <th>6494</th>\n",
       "      <td>0</td>\n",
       "      <td>1</td>\n",
       "      <td>0</td>\n",
       "      <td>1</td>\n",
       "      <td>0</td>\n",
       "      <td>0</td>\n",
       "      <td>1</td>\n",
       "      <td>0</td>\n",
       "      <td>0</td>\n",
       "      <td>0</td>\n",
       "      <td>1</td>\n",
       "      <td>0</td>\n",
       "      <td>1</td>\n",
       "    </tr>\n",
       "    <tr>\n",
       "      <th>6495</th>\n",
       "      <td>0</td>\n",
       "      <td>0</td>\n",
       "      <td>1</td>\n",
       "      <td>0</td>\n",
       "      <td>0</td>\n",
       "      <td>1</td>\n",
       "      <td>1</td>\n",
       "      <td>0</td>\n",
       "      <td>0</td>\n",
       "      <td>0</td>\n",
       "      <td>1</td>\n",
       "      <td>0</td>\n",
       "      <td>1</td>\n",
       "    </tr>\n",
       "    <tr>\n",
       "      <th>6496</th>\n",
       "      <td>0</td>\n",
       "      <td>0</td>\n",
       "      <td>1</td>\n",
       "      <td>0</td>\n",
       "      <td>0</td>\n",
       "      <td>1</td>\n",
       "      <td>1</td>\n",
       "      <td>0</td>\n",
       "      <td>0</td>\n",
       "      <td>0</td>\n",
       "      <td>1</td>\n",
       "      <td>0</td>\n",
       "      <td>1</td>\n",
       "    </tr>\n",
       "  </tbody>\n",
       "</table>\n",
       "<p>6497 rows × 13 columns</p>\n",
       "</div>"
      ],
      "text/plain": [
       "      v_a1  v_a2  v_a3  d_a1  d_a2  d_a3  s_d1  s_d2  s_d3  v_c1  v_c2  v_c3  \\\n",
       "0        0     1     0     1     0     0     1     0     0     0     0     1   \n",
       "1        0     1     0     1     0     0     1     0     0     0     0     1   \n",
       "2        0     1     0     1     0     0     1     0     0     0     0     1   \n",
       "3        0     1     0     1     0     0     1     0     0     1     0     0   \n",
       "4        0     1     0     1     0     0     1     0     0     0     0     1   \n",
       "...    ...   ...   ...   ...   ...   ...   ...   ...   ...   ...   ...   ...   \n",
       "6492     1     0     0     0     1     0     1     0     0     0     1     0   \n",
       "6493     0     1     0     1     0     0     0     0     1     0     1     0   \n",
       "6494     0     1     0     1     0     0     1     0     0     0     1     0   \n",
       "6495     0     0     1     0     0     1     1     0     0     0     1     0   \n",
       "6496     0     0     1     0     0     1     1     0     0     0     1     0   \n",
       "\n",
       "      is_good  \n",
       "0           0  \n",
       "1           0  \n",
       "2           0  \n",
       "3           1  \n",
       "4           0  \n",
       "...       ...  \n",
       "6492        1  \n",
       "6493        0  \n",
       "6494        1  \n",
       "6495        1  \n",
       "6496        1  \n",
       "\n",
       "[6497 rows x 13 columns]"
      ]
     },
     "execution_count": 242,
     "metadata": {},
     "output_type": "execute_result"
    }
   ],
   "source": [
    "wine"
   ]
  },
  {
   "cell_type": "code",
   "execution_count": 243,
   "id": "6db9dadf",
   "metadata": {},
   "outputs": [],
   "source": [
    "train, val, test, X_train, y_train, X_val, y_val, X_test, y_test = nl.train_vailidate_test_split(wine, 'is_good')\n",
    "# splitting data into train, validate, test splits"
   ]
  },
  {
   "cell_type": "markdown",
   "id": "f74c97cd",
   "metadata": {},
   "source": [
    "train_scaled, val_scaled, test_scaled = nl.scale_splits(X_train, X_val, X_test, MinMaxScaler(), columns = ['volatile_acidity', \n",
    "                                                                                                           'citric_acid', 'sugar', \n",
    "                                                                                                           'density', \n",
    "                                                                                                           'alcohol'])\n",
    "# creating scaled data for modeling and testing purposes"
   ]
  },
  {
   "cell_type": "code",
   "execution_count": 246,
   "id": "d40ad1b5",
   "metadata": {},
   "outputs": [
    {
     "data": {
      "text/html": [
       "<div>\n",
       "<style scoped>\n",
       "    .dataframe tbody tr th:only-of-type {\n",
       "        vertical-align: middle;\n",
       "    }\n",
       "\n",
       "    .dataframe tbody tr th {\n",
       "        vertical-align: top;\n",
       "    }\n",
       "\n",
       "    .dataframe thead th {\n",
       "        text-align: right;\n",
       "    }\n",
       "</style>\n",
       "<table border=\"1\" class=\"dataframe\">\n",
       "  <thead>\n",
       "    <tr style=\"text-align: right;\">\n",
       "      <th></th>\n",
       "      <th>v_a1</th>\n",
       "      <th>v_a2</th>\n",
       "      <th>v_a3</th>\n",
       "      <th>d_a1</th>\n",
       "      <th>d_a2</th>\n",
       "      <th>d_a3</th>\n",
       "      <th>s_d1</th>\n",
       "      <th>s_d2</th>\n",
       "      <th>s_d3</th>\n",
       "      <th>v_c1</th>\n",
       "      <th>v_c2</th>\n",
       "      <th>v_c3</th>\n",
       "    </tr>\n",
       "  </thead>\n",
       "  <tbody>\n",
       "    <tr>\n",
       "      <th>3899</th>\n",
       "      <td>0</td>\n",
       "      <td>0</td>\n",
       "      <td>1</td>\n",
       "      <td>0</td>\n",
       "      <td>0</td>\n",
       "      <td>1</td>\n",
       "      <td>1</td>\n",
       "      <td>0</td>\n",
       "      <td>0</td>\n",
       "      <td>0</td>\n",
       "      <td>1</td>\n",
       "      <td>0</td>\n",
       "    </tr>\n",
       "    <tr>\n",
       "      <th>5268</th>\n",
       "      <td>0</td>\n",
       "      <td>0</td>\n",
       "      <td>1</td>\n",
       "      <td>0</td>\n",
       "      <td>0</td>\n",
       "      <td>1</td>\n",
       "      <td>1</td>\n",
       "      <td>0</td>\n",
       "      <td>0</td>\n",
       "      <td>0</td>\n",
       "      <td>1</td>\n",
       "      <td>0</td>\n",
       "    </tr>\n",
       "    <tr>\n",
       "      <th>332</th>\n",
       "      <td>0</td>\n",
       "      <td>1</td>\n",
       "      <td>0</td>\n",
       "      <td>1</td>\n",
       "      <td>0</td>\n",
       "      <td>0</td>\n",
       "      <td>1</td>\n",
       "      <td>0</td>\n",
       "      <td>0</td>\n",
       "      <td>0</td>\n",
       "      <td>0</td>\n",
       "      <td>1</td>\n",
       "    </tr>\n",
       "    <tr>\n",
       "      <th>274</th>\n",
       "      <td>0</td>\n",
       "      <td>1</td>\n",
       "      <td>0</td>\n",
       "      <td>1</td>\n",
       "      <td>0</td>\n",
       "      <td>0</td>\n",
       "      <td>0</td>\n",
       "      <td>0</td>\n",
       "      <td>1</td>\n",
       "      <td>0</td>\n",
       "      <td>0</td>\n",
       "      <td>1</td>\n",
       "    </tr>\n",
       "    <tr>\n",
       "      <th>4326</th>\n",
       "      <td>1</td>\n",
       "      <td>0</td>\n",
       "      <td>0</td>\n",
       "      <td>0</td>\n",
       "      <td>1</td>\n",
       "      <td>0</td>\n",
       "      <td>1</td>\n",
       "      <td>0</td>\n",
       "      <td>0</td>\n",
       "      <td>0</td>\n",
       "      <td>1</td>\n",
       "      <td>0</td>\n",
       "    </tr>\n",
       "    <tr>\n",
       "      <th>...</th>\n",
       "      <td>...</td>\n",
       "      <td>...</td>\n",
       "      <td>...</td>\n",
       "      <td>...</td>\n",
       "      <td>...</td>\n",
       "      <td>...</td>\n",
       "      <td>...</td>\n",
       "      <td>...</td>\n",
       "      <td>...</td>\n",
       "      <td>...</td>\n",
       "      <td>...</td>\n",
       "      <td>...</td>\n",
       "    </tr>\n",
       "    <tr>\n",
       "      <th>2916</th>\n",
       "      <td>1</td>\n",
       "      <td>0</td>\n",
       "      <td>0</td>\n",
       "      <td>0</td>\n",
       "      <td>1</td>\n",
       "      <td>0</td>\n",
       "      <td>1</td>\n",
       "      <td>0</td>\n",
       "      <td>0</td>\n",
       "      <td>0</td>\n",
       "      <td>1</td>\n",
       "      <td>0</td>\n",
       "    </tr>\n",
       "    <tr>\n",
       "      <th>2129</th>\n",
       "      <td>0</td>\n",
       "      <td>1</td>\n",
       "      <td>0</td>\n",
       "      <td>1</td>\n",
       "      <td>0</td>\n",
       "      <td>0</td>\n",
       "      <td>0</td>\n",
       "      <td>0</td>\n",
       "      <td>1</td>\n",
       "      <td>0</td>\n",
       "      <td>1</td>\n",
       "      <td>0</td>\n",
       "    </tr>\n",
       "    <tr>\n",
       "      <th>5437</th>\n",
       "      <td>0</td>\n",
       "      <td>1</td>\n",
       "      <td>0</td>\n",
       "      <td>1</td>\n",
       "      <td>0</td>\n",
       "      <td>0</td>\n",
       "      <td>1</td>\n",
       "      <td>0</td>\n",
       "      <td>0</td>\n",
       "      <td>0</td>\n",
       "      <td>1</td>\n",
       "      <td>0</td>\n",
       "    </tr>\n",
       "    <tr>\n",
       "      <th>481</th>\n",
       "      <td>0</td>\n",
       "      <td>0</td>\n",
       "      <td>1</td>\n",
       "      <td>0</td>\n",
       "      <td>0</td>\n",
       "      <td>1</td>\n",
       "      <td>1</td>\n",
       "      <td>0</td>\n",
       "      <td>0</td>\n",
       "      <td>1</td>\n",
       "      <td>0</td>\n",
       "      <td>0</td>\n",
       "    </tr>\n",
       "    <tr>\n",
       "      <th>3107</th>\n",
       "      <td>0</td>\n",
       "      <td>1</td>\n",
       "      <td>0</td>\n",
       "      <td>1</td>\n",
       "      <td>0</td>\n",
       "      <td>0</td>\n",
       "      <td>0</td>\n",
       "      <td>1</td>\n",
       "      <td>0</td>\n",
       "      <td>1</td>\n",
       "      <td>0</td>\n",
       "      <td>0</td>\n",
       "    </tr>\n",
       "  </tbody>\n",
       "</table>\n",
       "<p>3637 rows × 12 columns</p>\n",
       "</div>"
      ],
      "text/plain": [
       "      v_a1  v_a2  v_a3  d_a1  d_a2  d_a3  s_d1  s_d2  s_d3  v_c1  v_c2  v_c3\n",
       "3899     0     0     1     0     0     1     1     0     0     0     1     0\n",
       "5268     0     0     1     0     0     1     1     0     0     0     1     0\n",
       "332      0     1     0     1     0     0     1     0     0     0     0     1\n",
       "274      0     1     0     1     0     0     0     0     1     0     0     1\n",
       "4326     1     0     0     0     1     0     1     0     0     0     1     0\n",
       "...    ...   ...   ...   ...   ...   ...   ...   ...   ...   ...   ...   ...\n",
       "2916     1     0     0     0     1     0     1     0     0     0     1     0\n",
       "2129     0     1     0     1     0     0     0     0     1     0     1     0\n",
       "5437     0     1     0     1     0     0     1     0     0     0     1     0\n",
       "481      0     0     1     0     0     1     1     0     0     1     0     0\n",
       "3107     0     1     0     1     0     0     0     1     0     1     0     0\n",
       "\n",
       "[3637 rows x 12 columns]"
      ]
     },
     "execution_count": 246,
     "metadata": {},
     "output_type": "execute_result"
    }
   ],
   "source": [
    "X_train\n",
    "# checking the scale"
   ]
  },
  {
   "cell_type": "markdown",
   "id": "6a204834",
   "metadata": {},
   "source": [
    "df = train_scaled"
   ]
  },
  {
   "cell_type": "markdown",
   "id": "9e249de3",
   "metadata": {},
   "source": [
    "df['quality'] = train.quality"
   ]
  },
  {
   "cell_type": "markdown",
   "id": "069cb969",
   "metadata": {},
   "source": [
    "df"
   ]
  },
  {
   "cell_type": "markdown",
   "id": "a5d6ce45",
   "metadata": {},
   "source": [
    "X = df[['volatile_acidity', 'alcohol']]\n",
    "kmeans = KMeans(n_clusters=3, random_state = 77)\n",
    "kmeans.fit(X)\n",
    "kmeans.predict(X)\n",
    "# creating a kmeans and fitting it\n",
    "df['v_a'] = kmeans.predict(X)\n",
    "# predicitons for the clusters\n",
    "df.head()"
   ]
  },
  {
   "cell_type": "markdown",
   "id": "6aaf0fc9",
   "metadata": {},
   "source": [
    "Y = df[['density', 'alcohol']]\n",
    "kmeans = KMeans(n_clusters=3, random_state = 42)\n",
    "kmeans.fit(Y)\n",
    "kmeans.predict(Y)\n",
    "# creating a kmeans and fitting it\n",
    "df['d_a'] = kmeans.predict(Y)\n",
    "# predicitons for the clusters\n",
    "df.head()"
   ]
  },
  {
   "cell_type": "markdown",
   "id": "0416dad4",
   "metadata": {},
   "source": [
    "Z = df[['sugar', 'density']]\n",
    "kmeans = KMeans(n_clusters=3, random_state = 41)\n",
    "kmeans.fit(Z)\n",
    "kmeans.predict(Z)\n",
    "# creating a kmeans and fitting it\n",
    "df['s_d'] = kmeans.predict(Z)\n",
    "# predicitons for the clusters\n",
    "df.head()"
   ]
  },
  {
   "cell_type": "markdown",
   "id": "52163820",
   "metadata": {},
   "source": [
    "A = df[['volatile_acidity', 'citric_acid']]\n",
    "kmeans = KMeans(n_clusters=3, random_state = 12)\n",
    "kmeans.fit(A)\n",
    "kmeans.predict(A)\n",
    "# creating a kmeans and fitting it\n",
    "df['v_c'] = kmeans.predict(A)\n",
    "# predicitons for the clusters\n",
    "df.head()"
   ]
  },
  {
   "cell_type": "markdown",
   "id": "850e53f8",
   "metadata": {},
   "source": [
    "a = pd.get_dummies(df.v_a)\n",
    "a"
   ]
  },
  {
   "cell_type": "markdown",
   "id": "9f31d489",
   "metadata": {},
   "source": [
    "b = pd.get_dummies(df.d_a)\n",
    "c = pd.get_dummies(df.s_d)\n",
    "d = pd.get_dummies(df.v_c)"
   ]
  },
  {
   "cell_type": "markdown",
   "id": "31340b26",
   "metadata": {},
   "source": [
    "a = a.rename(columns = {0: 'v_a1', 1: 'v_a2', 2:'v_a3'})\n",
    "b = b.rename(columns = {0: 'd_a1', 1: 'd_a2', 2:'d_a3'})\n",
    "c = c.rename(columns = {0: 's_d1', 1: 's_d2', 2:'s_d3'})\n",
    "d = d.rename(columns = {0: 'v_c1', 1: 'v_c2', 2:'v_c3'})"
   ]
  },
  {
   "cell_type": "markdown",
   "id": "f521eb1d",
   "metadata": {},
   "source": [
    "df = pd.concat([df,a,b,c,d], axis = 1)"
   ]
  },
  {
   "cell_type": "markdown",
   "id": "f52b20f4",
   "metadata": {},
   "source": [
    "df = df.drop(columns = ['volatile_acidity', 'citric_acid', 'sugar', 'density', 'alcohol', 'v_a', 'd_a', 's_d', 'v_c'])"
   ]
  },
  {
   "cell_type": "markdown",
   "id": "106f9ed6",
   "metadata": {},
   "source": [
    "df['qual'] = df['quality'] >= 6\n",
    "df"
   ]
  },
  {
   "cell_type": "markdown",
   "id": "b88f28b6",
   "metadata": {},
   "source": [
    "df['qual'] = np.where(df['qual'] == True, 1, 0)"
   ]
  },
  {
   "cell_type": "markdown",
   "id": "1b3e27bb",
   "metadata": {},
   "source": [
    "df = df.drop(columns = 'quality')"
   ]
  },
  {
   "cell_type": "markdown",
   "id": "ba8db885",
   "metadata": {},
   "source": [
    "df = df.rename(columns = {'qual': 'is_good'})"
   ]
  },
  {
   "cell_type": "markdown",
   "id": "d497a3e4",
   "metadata": {},
   "source": [
    "df"
   ]
  },
  {
   "cell_type": "code",
   "execution_count": 247,
   "id": "cf2fe0a1",
   "metadata": {},
   "outputs": [
    {
     "data": {
      "text/html": [
       "<div>\n",
       "<style scoped>\n",
       "    .dataframe tbody tr th:only-of-type {\n",
       "        vertical-align: middle;\n",
       "    }\n",
       "\n",
       "    .dataframe tbody tr th {\n",
       "        vertical-align: top;\n",
       "    }\n",
       "\n",
       "    .dataframe thead th {\n",
       "        text-align: right;\n",
       "    }\n",
       "</style>\n",
       "<table border=\"1\" class=\"dataframe\">\n",
       "  <thead>\n",
       "    <tr style=\"text-align: right;\">\n",
       "      <th></th>\n",
       "      <th>v_a1</th>\n",
       "      <th>v_a2</th>\n",
       "      <th>v_a3</th>\n",
       "      <th>d_a1</th>\n",
       "      <th>d_a2</th>\n",
       "      <th>d_a3</th>\n",
       "      <th>s_d1</th>\n",
       "      <th>s_d2</th>\n",
       "      <th>s_d3</th>\n",
       "      <th>v_c1</th>\n",
       "      <th>v_c2</th>\n",
       "      <th>v_c3</th>\n",
       "      <th>is_good</th>\n",
       "    </tr>\n",
       "  </thead>\n",
       "  <tbody>\n",
       "    <tr>\n",
       "      <th>3899</th>\n",
       "      <td>0</td>\n",
       "      <td>0</td>\n",
       "      <td>1</td>\n",
       "      <td>0</td>\n",
       "      <td>0</td>\n",
       "      <td>1</td>\n",
       "      <td>1</td>\n",
       "      <td>0</td>\n",
       "      <td>0</td>\n",
       "      <td>0</td>\n",
       "      <td>1</td>\n",
       "      <td>0</td>\n",
       "      <td>1</td>\n",
       "    </tr>\n",
       "    <tr>\n",
       "      <th>5268</th>\n",
       "      <td>0</td>\n",
       "      <td>0</td>\n",
       "      <td>1</td>\n",
       "      <td>0</td>\n",
       "      <td>0</td>\n",
       "      <td>1</td>\n",
       "      <td>1</td>\n",
       "      <td>0</td>\n",
       "      <td>0</td>\n",
       "      <td>0</td>\n",
       "      <td>1</td>\n",
       "      <td>0</td>\n",
       "      <td>1</td>\n",
       "    </tr>\n",
       "    <tr>\n",
       "      <th>332</th>\n",
       "      <td>0</td>\n",
       "      <td>1</td>\n",
       "      <td>0</td>\n",
       "      <td>1</td>\n",
       "      <td>0</td>\n",
       "      <td>0</td>\n",
       "      <td>1</td>\n",
       "      <td>0</td>\n",
       "      <td>0</td>\n",
       "      <td>0</td>\n",
       "      <td>0</td>\n",
       "      <td>1</td>\n",
       "      <td>1</td>\n",
       "    </tr>\n",
       "    <tr>\n",
       "      <th>274</th>\n",
       "      <td>0</td>\n",
       "      <td>1</td>\n",
       "      <td>0</td>\n",
       "      <td>1</td>\n",
       "      <td>0</td>\n",
       "      <td>0</td>\n",
       "      <td>0</td>\n",
       "      <td>0</td>\n",
       "      <td>1</td>\n",
       "      <td>0</td>\n",
       "      <td>0</td>\n",
       "      <td>1</td>\n",
       "      <td>0</td>\n",
       "    </tr>\n",
       "    <tr>\n",
       "      <th>4326</th>\n",
       "      <td>1</td>\n",
       "      <td>0</td>\n",
       "      <td>0</td>\n",
       "      <td>0</td>\n",
       "      <td>1</td>\n",
       "      <td>0</td>\n",
       "      <td>1</td>\n",
       "      <td>0</td>\n",
       "      <td>0</td>\n",
       "      <td>0</td>\n",
       "      <td>1</td>\n",
       "      <td>0</td>\n",
       "      <td>1</td>\n",
       "    </tr>\n",
       "  </tbody>\n",
       "</table>\n",
       "</div>"
      ],
      "text/plain": [
       "      v_a1  v_a2  v_a3  d_a1  d_a2  d_a3  s_d1  s_d2  s_d3  v_c1  v_c2  v_c3  \\\n",
       "3899     0     0     1     0     0     1     1     0     0     0     1     0   \n",
       "5268     0     0     1     0     0     1     1     0     0     0     1     0   \n",
       "332      0     1     0     1     0     0     1     0     0     0     0     1   \n",
       "274      0     1     0     1     0     0     0     0     1     0     0     1   \n",
       "4326     1     0     0     0     1     0     1     0     0     0     1     0   \n",
       "\n",
       "      is_good  \n",
       "3899        1  \n",
       "5268        1  \n",
       "332         1  \n",
       "274         0  \n",
       "4326        1  "
      ]
     },
     "execution_count": 247,
     "metadata": {},
     "output_type": "execute_result"
    }
   ],
   "source": [
    "train.head()"
   ]
  },
  {
   "cell_type": "code",
   "execution_count": 248,
   "id": "26b3d77a",
   "metadata": {},
   "outputs": [],
   "source": [
    "train['baseline'] = 1"
   ]
  },
  {
   "cell_type": "code",
   "execution_count": 249,
   "id": "a6115448",
   "metadata": {},
   "outputs": [
    {
     "data": {
      "text/plain": [
       "0.6395380808358537"
      ]
     },
     "execution_count": 249,
     "metadata": {},
     "output_type": "execute_result"
    }
   ],
   "source": [
    "len(train.is_good[train.is_good == 1])/len(train)"
   ]
  },
  {
   "cell_type": "markdown",
   "id": "f6733d4d",
   "metadata": {},
   "source": [
    "df_y = df['is_good']\n",
    "df_y"
   ]
  },
  {
   "cell_type": "markdown",
   "id": "daa82e10",
   "metadata": {},
   "source": [
    "df = df.drop(columns = ['is_good', 'baseline'])"
   ]
  },
  {
   "cell_type": "code",
   "execution_count": 251,
   "id": "19c7fd84",
   "metadata": {},
   "outputs": [],
   "source": [
    "train_tree = DecisionTreeClassifier(max_depth=7, random_state=77)"
   ]
  },
  {
   "cell_type": "code",
   "execution_count": 285,
   "id": "c8ea9fc9",
   "metadata": {},
   "outputs": [
    {
     "data": {
      "text/plain": [
       "DecisionTreeClassifier(max_depth=7, random_state=77)"
      ]
     },
     "execution_count": 285,
     "metadata": {},
     "output_type": "execute_result"
    }
   ],
   "source": [
    "train_tree = train_tree.fit(X_train, y_train)\n",
    "train_tree"
   ]
  },
  {
   "cell_type": "code",
   "execution_count": 286,
   "id": "08be75bd",
   "metadata": {},
   "outputs": [],
   "source": [
    "y_pred = train_tree.predict(X_train)\n",
    "y_pred_proba = train_tree.predict_proba(X_train)"
   ]
  },
  {
   "cell_type": "code",
   "execution_count": 287,
   "id": "960369b2",
   "metadata": {},
   "outputs": [
    {
     "data": {
      "text/plain": [
       "0.7110255705251581"
      ]
     },
     "execution_count": 287,
     "metadata": {},
     "output_type": "execute_result"
    }
   ],
   "source": [
    "train_tree.score(X_train, y_train)"
   ]
  },
  {
   "cell_type": "markdown",
   "id": "e0482c03",
   "metadata": {},
   "source": [
    "def rfe(X, y, n):\n",
    "    '''\n",
    "    This function takes in the features, target variable \n",
    "    and number of top features desired and returns a dataframe with\n",
    "    the features ranked\n",
    "    '''\n",
    "    from sklearn.linear_model import LinearRegression\n",
    "    from sklearn.feature_selection import SelectKBest, f_regression, RFE\n",
    "    lm = LinearRegression()\n",
    "    rfe = RFE(lm, n_features_to_select=n)\n",
    "    rfe.fit(X, y)\n",
    "    ranks = rfe.ranking_\n",
    "    columns = X.columns.tolist()\n",
    "    feature_ranks = pd.DataFrame({'ranking': ranks, 'feature': columns})\n",
    "    return feature_ranks.sort_values('ranking')\n",
    "# Function to create feature engineering using rfe to select best features"
   ]
  },
  {
   "cell_type": "markdown",
   "id": "90c7b7d9",
   "metadata": {},
   "source": [
    "# Feture engineering usings RFE to confirm best features.\n",
    "feature_ranks = rfe(df, df_y, 6)\n",
    "feature_ranks"
   ]
  },
  {
   "cell_type": "markdown",
   "id": "12da1d5c",
   "metadata": {},
   "source": [
    "df1 = df"
   ]
  },
  {
   "cell_type": "markdown",
   "id": "590cc1d1",
   "metadata": {},
   "source": [
    "df1 = df1[['v_a1', 'v_a2', 'v_a3', 'v_c1', 'v_c2', 'v_c3']]"
   ]
  },
  {
   "cell_type": "markdown",
   "id": "04994805",
   "metadata": {},
   "source": [
    "train_tree = train_tree.fit(df, df_y)\n",
    "train_tree"
   ]
  },
  {
   "cell_type": "markdown",
   "id": "2086f87e",
   "metadata": {},
   "source": [
    "y_pred = train_tree.predict(df)\n",
    "y_pred_proba = train_tree.predict_proba(df)"
   ]
  },
  {
   "cell_type": "markdown",
   "id": "6e4e98a3",
   "metadata": {},
   "source": [
    "train_tree.score(df, df_y)"
   ]
  },
  {
   "cell_type": "code",
   "execution_count": 288,
   "id": "21bb45a3",
   "metadata": {},
   "outputs": [],
   "source": [
    "rf = RandomForestClassifier(bootstrap=True, \n",
    "                            class_weight=None, \n",
    "                            criterion='gini',\n",
    "                            min_samples_leaf=1,\n",
    "                            n_estimators=200,\n",
    "                            max_depth=4, \n",
    "                            random_state=123)"
   ]
  },
  {
   "cell_type": "code",
   "execution_count": 289,
   "id": "40271fb5",
   "metadata": {},
   "outputs": [
    {
     "data": {
      "text/plain": [
       "RandomForestClassifier(max_depth=4, n_estimators=200, random_state=123)"
      ]
     },
     "execution_count": 289,
     "metadata": {},
     "output_type": "execute_result"
    }
   ],
   "source": [
    "rf.fit(X_train, y_train)"
   ]
  },
  {
   "cell_type": "code",
   "execution_count": 290,
   "id": "0958f5d7",
   "metadata": {},
   "outputs": [],
   "source": [
    "y_pred = rf.predict(X_train)\n",
    "y_pred_proba = rf.predict_proba(X_train)\n"
   ]
  },
  {
   "cell_type": "code",
   "execution_count": 291,
   "id": "16a79666",
   "metadata": {},
   "outputs": [
    {
     "data": {
      "text/plain": [
       "0.7104756667583173"
      ]
     },
     "execution_count": 291,
     "metadata": {},
     "output_type": "execute_result"
    }
   ],
   "source": [
    "rf.score(X_train, y_train)"
   ]
  },
  {
   "cell_type": "code",
   "execution_count": 292,
   "id": "69b4db68",
   "metadata": {},
   "outputs": [],
   "source": [
    "logit1 = LogisticRegression(C=1, \n",
    "                           random_state=123, \n",
    "                           intercept_scaling=1, \n",
    "                           solver='liblinear')"
   ]
  },
  {
   "cell_type": "code",
   "execution_count": 293,
   "id": "f4ea8a07",
   "metadata": {},
   "outputs": [
    {
     "data": {
      "text/plain": [
       "LogisticRegression(C=1, random_state=123, solver='liblinear')"
      ]
     },
     "execution_count": 293,
     "metadata": {},
     "output_type": "execute_result"
    }
   ],
   "source": [
    "logit1.fit(X_train, y_train)"
   ]
  },
  {
   "cell_type": "code",
   "execution_count": 294,
   "id": "b0cd0a47",
   "metadata": {},
   "outputs": [],
   "source": [
    "y_pred = logit1.predict(X_train)\n",
    "y_pred_proba = logit1.predict_proba(X_train)"
   ]
  },
  {
   "cell_type": "code",
   "execution_count": 295,
   "id": "79bfe934",
   "metadata": {},
   "outputs": [
    {
     "data": {
      "text/plain": [
       "0.7041517734396481"
      ]
     },
     "execution_count": 295,
     "metadata": {},
     "output_type": "execute_result"
    }
   ],
   "source": [
    "logit1.score(X_train, y_train)"
   ]
  },
  {
   "cell_type": "code",
   "execution_count": 296,
   "id": "f084b5ef",
   "metadata": {},
   "outputs": [],
   "source": [
    "knn = KNeighborsClassifier(n_neighbors=5, weights='uniform')"
   ]
  },
  {
   "cell_type": "code",
   "execution_count": 297,
   "id": "6b775643",
   "metadata": {},
   "outputs": [
    {
     "data": {
      "text/plain": [
       "KNeighborsClassifier()"
      ]
     },
     "execution_count": 297,
     "metadata": {},
     "output_type": "execute_result"
    }
   ],
   "source": [
    "knn.fit(X_train, y_train)"
   ]
  },
  {
   "cell_type": "code",
   "execution_count": 298,
   "id": "06c6d019",
   "metadata": {},
   "outputs": [],
   "source": [
    "y_pred = knn.predict(X_train)\n",
    "y_pred_proba = knn.predict_proba(X_train)"
   ]
  },
  {
   "cell_type": "code",
   "execution_count": 299,
   "id": "264724b2",
   "metadata": {},
   "outputs": [
    {
     "data": {
      "text/plain": [
       "0.7047016772064889"
      ]
     },
     "execution_count": 299,
     "metadata": {},
     "output_type": "execute_result"
    }
   ],
   "source": [
    "knn.score(X_train, y_train)"
   ]
  },
  {
   "cell_type": "code",
   "execution_count": 300,
   "id": "9d8bf2a6",
   "metadata": {},
   "outputs": [],
   "source": [
    "y_pred = train_tree.predict(X_val)\n",
    "y_pred_proba = train_tree.predict_proba(X_val)"
   ]
  },
  {
   "cell_type": "code",
   "execution_count": 301,
   "id": "ac806ac8",
   "metadata": {},
   "outputs": [
    {
     "data": {
      "text/plain": [
       "0.7108974358974359"
      ]
     },
     "execution_count": 301,
     "metadata": {},
     "output_type": "execute_result"
    }
   ],
   "source": [
    "train_tree.score(X_val, y_val)"
   ]
  },
  {
   "cell_type": "code",
   "execution_count": 302,
   "id": "7c14f843",
   "metadata": {},
   "outputs": [],
   "source": [
    "y_pred = rf.predict(X_val)\n",
    "y_pred_proba = rf.predict_proba(X_val)"
   ]
  },
  {
   "cell_type": "code",
   "execution_count": 280,
   "id": "b602e309",
   "metadata": {},
   "outputs": [
    {
     "data": {
      "text/plain": [
       "0.7096153846153846"
      ]
     },
     "execution_count": 280,
     "metadata": {},
     "output_type": "execute_result"
    }
   ],
   "source": [
    "rf.score(X_val, y_val)"
   ]
  },
  {
   "cell_type": "code",
   "execution_count": 281,
   "id": "a288bd4b",
   "metadata": {},
   "outputs": [],
   "source": [
    "y_pred = logit1.predict(X_val)\n",
    "y_pred_proba = logit1.predict_proba(X_val)"
   ]
  },
  {
   "cell_type": "code",
   "execution_count": 282,
   "id": "c88de109",
   "metadata": {},
   "outputs": [
    {
     "data": {
      "text/plain": [
       "0.6903846153846154"
      ]
     },
     "execution_count": 282,
     "metadata": {},
     "output_type": "execute_result"
    }
   ],
   "source": [
    "logit1.score(X_val, y_val)"
   ]
  },
  {
   "cell_type": "code",
   "execution_count": 283,
   "id": "a8594a48",
   "metadata": {},
   "outputs": [],
   "source": [
    "y_pred = knn.predict(X_val)\n",
    "y_pred_proba = knn.predict_proba(X_val)"
   ]
  },
  {
   "cell_type": "code",
   "execution_count": 284,
   "id": "f77050b8",
   "metadata": {},
   "outputs": [
    {
     "data": {
      "text/plain": [
       "0.7019230769230769"
      ]
     },
     "execution_count": 284,
     "metadata": {},
     "output_type": "execute_result"
    }
   ],
   "source": [
    "knn.score(X_val, y_val)"
   ]
  },
  {
   "cell_type": "code",
   "execution_count": 303,
   "id": "cd8e7c81",
   "metadata": {},
   "outputs": [],
   "source": [
    "y_pred = train_tree.predict(X_test)\n",
    "y_pred_proba = train_tree.predict_proba(X_test)"
   ]
  },
  {
   "cell_type": "code",
   "execution_count": 304,
   "id": "24c06b3b",
   "metadata": {},
   "outputs": [
    {
     "data": {
      "text/plain": [
       "0.7161538461538461"
      ]
     },
     "execution_count": 304,
     "metadata": {},
     "output_type": "execute_result"
    }
   ],
   "source": [
    "train_tree.score(X_test, y_test)"
   ]
  },
  {
   "cell_type": "code",
   "execution_count": null,
   "id": "cb388880",
   "metadata": {},
   "outputs": [],
   "source": []
  }
 ],
 "metadata": {
  "kernelspec": {
   "display_name": "Python 3 (ipykernel)",
   "language": "python",
   "name": "python3"
  },
  "language_info": {
   "codemirror_mode": {
    "name": "ipython",
    "version": 3
   },
   "file_extension": ".py",
   "mimetype": "text/x-python",
   "name": "python",
   "nbconvert_exporter": "python",
   "pygments_lexer": "ipython3",
   "version": "3.9.13"
  }
 },
 "nbformat": 4,
 "nbformat_minor": 5
}
