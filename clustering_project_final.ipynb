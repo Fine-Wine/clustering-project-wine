{
 "cells": [
  {
   "cell_type": "markdown",
   "id": "422f4640",
   "metadata": {},
   "source": [
    "# Fine Wine"
   ]
  },
  {
   "cell_type": "markdown",
   "id": "7177aeb2",
   "metadata": {},
   "source": [
    "# Goal:\n",
    "\n",
    "- Construct an ML Regression model that predicts wine quality using features of white and red wines.\n",
    "\n",
    "- Find the key drivers of wine quality. \n",
    "\n",
    "- Deliver a report that explains what steps were taken, why and what the outcome was.\n",
    "\n",
    "- Make recommendations on what works or doesn't work in predicting wine quality."
   ]
  },
  {
   "cell_type": "code",
   "execution_count": 1,
   "id": "25bff3c7",
   "metadata": {},
   "outputs": [],
   "source": [
    "#standard DS imports\n",
    "import pandas as pd\n",
    "import numpy as np\n",
    "import matplotlib.pyplot as plt\n",
    "import seaborn as sns\n",
    "import os\n",
    "from scipy import stats\n",
    "import math\n",
    "from math import sqrt\n",
    "import random\n",
    "from itertools import combinations\n",
    "\n",
    "#sklearn and scipy imports\n",
    "from sklearn.model_selection import train_test_split\n",
    "import sklearn.preprocessing\n",
    "from sklearn.feature_selection import SelectKBest, f_regression, RFE\n",
    "from sklearn.linear_model import LinearRegression\n",
    "from sklearn.preprocessing import MinMaxScaler\n",
    "from sklearn.impute import SimpleImputer\n",
    "from sklearn.cluster import KMeans\n",
    "from scipy.stats import ttest_1samp\n",
    "\n",
    "#custom imports\n",
    "\n",
    "import acquire as a\n",
    "import prepare as p\n",
    "import functions as f\n",
    "import new_lib as nl\n",
    "\n",
    "#filter out any noisy warning flags\n",
    "import warnings\n",
    "warnings.filterwarnings('ignore')\n",
    "\n",
    "# setting the seed\n",
    "seed = random.seed(123)"
   ]
  },
  {
   "cell_type": "markdown",
   "id": "3341bbc7",
   "metadata": {},
   "source": [
    "# Acquire\n",
    "\n",
    "- Data acquired from (https://data.world/food/wine-quality) P. Cortez, A. Cerdeira, F. Almeida, T. Matos and J. Reis.\n",
    "    Modeling wine preferences by data mining from physicochemical properties.\n",
    "    In Decision Support Systems, Elsevier, 47(4):547-553. ISSN: 0167-9236.\n",
    "- It contained 6497 rows and 13 columns before cleaning\n",
    "- Each row represents a white or red wine\n",
    "- Each column represents information about the red or white wine\n",
    "- A data dictionary is available in the README file on Fine Wine's Github"
   ]
  },
  {
   "cell_type": "code",
   "execution_count": 2,
   "id": "1bc872b3",
   "metadata": {},
   "outputs": [],
   "source": [
    "# Acquire Step\n",
    "wine = a.acquire_wine()"
   ]
  },
  {
   "cell_type": "markdown",
   "id": "3e112f4c",
   "metadata": {},
   "source": [
    "# Prepare\n",
    "\n",
    "Prepare Actions:  \n",
    "\n",
    "The target variable changed from overal quality on a scale of 0-10 to good quality of 6 or better and lower quality wine as 5 or lower.  \n",
    "Dropped unnecessary columns    \n",
    "Placed underscores back in columns that were missing  \n",
    "Dropped duplicate columns  \n",
    "Created a scaled dataframe for modeling purposes with identified features:    \n",
    "    - created dummies    \n",
    "    - dropped columns    \n",
    "    - scaled the data    \n",
    "split the data    "
   ]
  },
  {
   "cell_type": "code",
   "execution_count": 3,
   "id": "aeb8837a",
   "metadata": {},
   "outputs": [],
   "source": [
    "# preparing and splitting data into train, validate, test splits\n",
    "wine = p.prepare_wine(wine)\n",
    "train, val, test, X_train, y_train, X_val, y_val, X_test, y_test = nl.train_vailidate_test_split(wine, 'quality')"
   ]
  },
  {
   "cell_type": "markdown",
   "id": "0356fd1d",
   "metadata": {},
   "source": [
    "## A brief look at the data"
   ]
  },
  {
   "cell_type": "code",
   "execution_count": 4,
   "id": "863aa1fb",
   "metadata": {},
   "outputs": [
    {
     "data": {
      "text/html": [
       "<div>\n",
       "<style scoped>\n",
       "    .dataframe tbody tr th:only-of-type {\n",
       "        vertical-align: middle;\n",
       "    }\n",
       "\n",
       "    .dataframe tbody tr th {\n",
       "        vertical-align: top;\n",
       "    }\n",
       "\n",
       "    .dataframe thead th {\n",
       "        text-align: right;\n",
       "    }\n",
       "</style>\n",
       "<table border=\"1\" class=\"dataframe\">\n",
       "  <thead>\n",
       "    <tr style=\"text-align: right;\">\n",
       "      <th></th>\n",
       "      <th>red_or_white</th>\n",
       "      <th>fixed_acidity</th>\n",
       "      <th>volatile_acidity</th>\n",
       "      <th>citric_acid</th>\n",
       "      <th>sugar</th>\n",
       "      <th>chlorides</th>\n",
       "      <th>free_sulfer</th>\n",
       "      <th>total_sulfer</th>\n",
       "      <th>density</th>\n",
       "      <th>pH</th>\n",
       "      <th>sulphates</th>\n",
       "      <th>alcohol</th>\n",
       "      <th>quality</th>\n",
       "    </tr>\n",
       "  </thead>\n",
       "  <tbody>\n",
       "    <tr>\n",
       "      <th>3899</th>\n",
       "      <td>0</td>\n",
       "      <td>7.3</td>\n",
       "      <td>0.30</td>\n",
       "      <td>0.33</td>\n",
       "      <td>2.3</td>\n",
       "      <td>0.043</td>\n",
       "      <td>28.0</td>\n",
       "      <td>125.0</td>\n",
       "      <td>0.99084</td>\n",
       "      <td>3.34</td>\n",
       "      <td>0.44</td>\n",
       "      <td>12.6</td>\n",
       "      <td>7</td>\n",
       "    </tr>\n",
       "    <tr>\n",
       "      <th>5268</th>\n",
       "      <td>0</td>\n",
       "      <td>5.9</td>\n",
       "      <td>0.37</td>\n",
       "      <td>0.32</td>\n",
       "      <td>1.6</td>\n",
       "      <td>0.029</td>\n",
       "      <td>41.0</td>\n",
       "      <td>102.0</td>\n",
       "      <td>0.98916</td>\n",
       "      <td>3.41</td>\n",
       "      <td>0.55</td>\n",
       "      <td>12.7</td>\n",
       "      <td>7</td>\n",
       "    </tr>\n",
       "    <tr>\n",
       "      <th>332</th>\n",
       "      <td>1</td>\n",
       "      <td>8.0</td>\n",
       "      <td>0.58</td>\n",
       "      <td>0.28</td>\n",
       "      <td>3.2</td>\n",
       "      <td>0.066</td>\n",
       "      <td>21.0</td>\n",
       "      <td>114.0</td>\n",
       "      <td>0.99730</td>\n",
       "      <td>3.22</td>\n",
       "      <td>0.54</td>\n",
       "      <td>9.4</td>\n",
       "      <td>6</td>\n",
       "    </tr>\n",
       "    <tr>\n",
       "      <th>274</th>\n",
       "      <td>1</td>\n",
       "      <td>7.5</td>\n",
       "      <td>0.65</td>\n",
       "      <td>0.18</td>\n",
       "      <td>7.0</td>\n",
       "      <td>0.088</td>\n",
       "      <td>27.0</td>\n",
       "      <td>94.0</td>\n",
       "      <td>0.99915</td>\n",
       "      <td>3.38</td>\n",
       "      <td>0.77</td>\n",
       "      <td>9.4</td>\n",
       "      <td>5</td>\n",
       "    </tr>\n",
       "    <tr>\n",
       "      <th>4326</th>\n",
       "      <td>0</td>\n",
       "      <td>6.5</td>\n",
       "      <td>0.17</td>\n",
       "      <td>0.31</td>\n",
       "      <td>1.5</td>\n",
       "      <td>0.041</td>\n",
       "      <td>34.0</td>\n",
       "      <td>121.0</td>\n",
       "      <td>0.99092</td>\n",
       "      <td>3.06</td>\n",
       "      <td>0.46</td>\n",
       "      <td>10.5</td>\n",
       "      <td>6</td>\n",
       "    </tr>\n",
       "  </tbody>\n",
       "</table>\n",
       "</div>"
      ],
      "text/plain": [
       "      red_or_white  fixed_acidity  volatile_acidity  citric_acid  sugar  \\\n",
       "3899             0            7.3              0.30         0.33    2.3   \n",
       "5268             0            5.9              0.37         0.32    1.6   \n",
       "332              1            8.0              0.58         0.28    3.2   \n",
       "274              1            7.5              0.65         0.18    7.0   \n",
       "4326             0            6.5              0.17         0.31    1.5   \n",
       "\n",
       "      chlorides  free_sulfer  total_sulfer  density    pH  sulphates  alcohol  \\\n",
       "3899      0.043         28.0         125.0  0.99084  3.34       0.44     12.6   \n",
       "5268      0.029         41.0         102.0  0.98916  3.41       0.55     12.7   \n",
       "332       0.066         21.0         114.0  0.99730  3.22       0.54      9.4   \n",
       "274       0.088         27.0          94.0  0.99915  3.38       0.77      9.4   \n",
       "4326      0.041         34.0         121.0  0.99092  3.06       0.46     10.5   \n",
       "\n",
       "      quality  \n",
       "3899        7  \n",
       "5268        7  \n",
       "332         6  \n",
       "274         5  \n",
       "4326        6  "
      ]
     },
     "execution_count": 4,
     "metadata": {},
     "output_type": "execute_result"
    }
   ],
   "source": [
    "# Looking at the cleaned up columns\n",
    "train.head()"
   ]
  },
  {
   "cell_type": "markdown",
   "id": "1bf500f7",
   "metadata": {},
   "source": [
    "# Explore\n",
    "\n",
    "Questions asked:\n",
    "\n",
    "    1) Does the quantity of alcohol effect the quality of the wine?\n",
    "    \n",
    "    2) Does the density of the wine effect the quality of the wine?\n",
    "    \n",
    "    3) Does the amount of sugar effect the quality of the wine?\n",
    "    \n",
    "    4) Does the acidity of the wine effect the quality of the wine?"
   ]
  },
  {
   "cell_type": "markdown",
   "id": "03531f49",
   "metadata": {},
   "source": [
    "## 1) Does the quantity of alcohol effect the quality of the wine?"
   ]
  },
  {
   "cell_type": "code",
   "execution_count": 5,
   "id": "044aa07b",
   "metadata": {},
   "outputs": [
    {
     "data": {
      "image/png": "[encoded data removed]",
      "text/plain": [
       "<Figure size 640x480 with 1 Axes>"
      ]
     },
     "metadata": {},
     "output_type": "display_data"
    }
   ],
   "source": [
    "# Visualization for quantity of alcohol\n",
    "alcohol = f.alcohol_visual(train)\n",
    "alcohol"
   ]
  },
  {
   "cell_type": "markdown",
   "id": "f565a8f1",
   "metadata": {},
   "source": [
    "- Alcohol levels between 9.7 and 11.45 produced the most good wines.\n",
    "- The least amount of good wines produced came from levels between 7.9 and 9.7.\n",
    "- The highest content of alcohol shows the least amount of good wines; however, there are too little total quantities of wine to make an accurate observation.\n",
    "\n",
    "\n",
    "H_0: Alchol content does not effect the quality of the wine.  \n",
    "\n",
    "H_a: Alcohol content effects the quality of the wine."
   ]
  },
  {
   "cell_type": "code",
   "execution_count": 7,
   "id": "a2498e59",
   "metadata": {
    "scrolled": true
   },
   "outputs": [
    {
     "name": "stdout",
     "output_type": "stream",
     "text": [
      "Reject the null hypothesis that alchol content does not effect the quality of the wine.\n",
      "Sufficient evidence to move forward understanding that alcohol content effects the quality of the wine.\n"
     ]
    }
   ],
   "source": [
    "# Running a one sample ttest statistical test \n",
    "#to check for correlation and have more confidence\n",
    "alcohol_test = f.eval_result(train, 'alcohol')\n",
    "alcohol_test"
   ]
  },
  {
   "cell_type": "markdown",
   "id": "f2a71e7c",
   "metadata": {},
   "source": [
    "***Takeaway:***\n",
    "\n",
    "The higer the content of alcohol, the more likely that the wine is selected as quality 6 or higher."
   ]
  },
  {
   "cell_type": "markdown",
   "id": "ad518b40",
   "metadata": {},
   "source": [
    "## 2)  Does the density of the wine effect the quality of the wine?"
   ]
  },
  {
   "cell_type": "code",
   "execution_count": null,
   "id": "c552aa8c",
   "metadata": {},
   "outputs": [],
   "source": [
    "# Visualization to show how density effects the quality of the wine.\n",
    "density = p.density_visual(train)\n",
    "density"
   ]
  },
  {
   "cell_type": "markdown",
   "id": "10d5673f",
   "metadata": {},
   "source": [
    "- Low to mid levels of density produced the most good quality wines.\n",
    "- Very few wines were produced at the higer levels of density.\n",
    "\n",
    "H_0: Density levels do not effect the quality of wine.   \n",
    "\n",
    "H_a: Density levels effect the quality of wine."
   ]
  },
  {
   "cell_type": "code",
   "execution_count": null,
   "id": "75b64004",
   "metadata": {},
   "outputs": [],
   "source": [
    "# Running a one sample ttest statistical test \n",
    "#to check for correlation and have more confidence\n",
    "density_test = p.eval_result2(train, 'density')\n",
    "density_test"
   ]
  },
  {
   "cell_type": "markdown",
   "id": "d02dfe7b",
   "metadata": {},
   "source": [
    "***Takeaway:***\n",
    "\n",
    "The middle levels of density produce the most good wines, but a majority of the wines have low to mid levels of density."
   ]
  },
  {
   "cell_type": "markdown",
   "id": "b2d27726",
   "metadata": {},
   "source": [
    "## 3) Does the amount of sugar effect the quality of the wine?"
   ]
  },
  {
   "cell_type": "code",
   "execution_count": null,
   "id": "d6a6155e",
   "metadata": {},
   "outputs": [],
   "source": [
    "# Visualization to show how sugar effects the quality of the wine.\n",
    "sugar = p.sugar_visual(train)\n",
    "sugar"
   ]
  },
  {
   "cell_type": "markdown",
   "id": "4dd3191e",
   "metadata": {},
   "source": [
    "- The lowest levels of sugar by far produce the most good quality wines.\n",
    "- Most of the wines produced contain the lowest levels of sugar.\n",
    "\n",
    "H_0: Sugar has no effect on determining the quality of the wine.\n",
    "\n",
    "H_a: The different levels of sugar effect the quality of the wine."
   ]
  },
  {
   "cell_type": "code",
   "execution_count": null,
   "id": "7f34513d",
   "metadata": {},
   "outputs": [],
   "source": [
    "# Running a one sample ttest statistical test \n",
    "#to check for correlation and have more confidence\n",
    "sugar_test = p.eval_result3(train, 'sugar')\n",
    "sugar_test"
   ]
  },
  {
   "cell_type": "markdown",
   "id": "9e00fc14",
   "metadata": {},
   "source": [
    "***Takeaway:***\n",
    "\n",
    "Although the stats test failed to reject the null, the strong visualtion and clustering sugar with density produces sufficient evidence to include this feature in the model."
   ]
  },
  {
   "cell_type": "markdown",
   "id": "841dacca",
   "metadata": {},
   "source": [
    "## 4) Does the acidity of the wine effect the quality of the wine?"
   ]
  },
  {
   "cell_type": "code",
   "execution_count": null,
   "id": "d9eff509",
   "metadata": {},
   "outputs": [],
   "source": [
    "# Visualization to show how acidity levels effects the quality of the wine.\n",
    "acidity = p.acidity_visual(train)\n",
    "acidity"
   ]
  },
  {
   "cell_type": "markdown",
   "id": "9dab61ab",
   "metadata": {},
   "source": [
    "- Volatile acidity and citrtic acidity produced the most good wines at lower levels.\n",
    "- As the acidity decreased the amount of good wines decreases as well.\n",
    "- There is a significant drop off after .455 level of volatile acidity.\n",
    "- There is a significant drop off after .415 level of citric acid.\n",
    "\n",
    "H_0: The acidity level of wine does not effect the quality of the wine.  \n",
    "\n",
    "H_a: The acidity level of wine effects the quality of the wine."
   ]
  },
  {
   "cell_type": "code",
   "execution_count": null,
   "id": "5d5db012",
   "metadata": {},
   "outputs": [],
   "source": [
    "# Running a one sample ttest statistical test \n",
    "#to check for correlation and have more confidence\n",
    "volatile_test = p.eval_result4(train, 'volatile_acidity')\n",
    "volatile_test"
   ]
  },
  {
   "cell_type": "code",
   "execution_count": null,
   "id": "f6aed53a",
   "metadata": {},
   "outputs": [],
   "source": [
    "# Running a one sample ttest statistical test \n",
    "#to check for correlation and have more confidence\n",
    "citric_test = p.eval_result4(train, 'citric_acid')\n",
    "citric_test"
   ]
  },
  {
   "cell_type": "markdown",
   "id": "8b2f2e4b",
   "metadata": {},
   "source": [
    "***Takeaway:***\n",
    "\n",
    "The lower the acidity levels the more good quality wine that is produced."
   ]
  },
  {
   "cell_type": "markdown",
   "id": "044668c2",
   "metadata": {},
   "source": [
    "# Exploration Summary"
   ]
  },
  {
   "cell_type": "markdown",
   "id": "b5e213b3",
   "metadata": {},
   "source": [
    "- Alcohol has the strongest correlation with the quality of wines that are rated at six or above.\n",
    "- The acidity of the wine at lower levels has the next higest correlation with good wines.\n",
    "- The density of the wine has the strongest negative correlation.\n",
    "- Although sugar failed to reject the null hypothesis, combining this feature with density produced a strong visualization that could produce enhanced results in the model.\n",
    "- All of the features appear to have lower correlations with the quality of the wine, especially wines rated at six or higher. Clustering these features may produce better results."
   ]
  },
  {
   "cell_type": "markdown",
   "id": "ef4f22a2",
   "metadata": {},
   "source": [
    "# Features I am moving to modeling With"
   ]
  },
  {
   "cell_type": "markdown",
   "id": "e1c92031",
   "metadata": {},
   "source": [
    "- Volatile acidity and alcohol\n",
    "- Density and alcohol\n",
    "- Sugar and Density\n",
    "- Citric and Volatile Acidity\n",
    "- These are the clusters that produced the strongest visualizations to move forward with"
   ]
  },
  {
   "cell_type": "markdown",
   "id": "de8e0824",
   "metadata": {},
   "source": [
    "# Features I'm not moving to modeling with"
   ]
  },
  {
   "cell_type": "markdown",
   "id": "c403dfb0",
   "metadata": {},
   "source": [
    "- Total sulfer, PH, and sulphates all failed to reject the null hypothesis and do not appear to have a significant impact on the quality of the wine."
   ]
  },
  {
   "cell_type": "markdown",
   "id": "2c34e60d",
   "metadata": {},
   "source": [
    "# Modeling\n",
    "\n",
    "- The mode on train will be the baseline I use for this project\n",
    "- I will be evaluating models developed using four different model types and various hyperparameter configurations \n",
    "- Models will be evaluated on train and validate data \n",
    "- The model that performs the best will then be evaluated on test data. \n",
    "- The Decision Tree model produced the best results."
   ]
  },
  {
   "cell_type": "code",
   "execution_count": null,
   "id": "1c0f0def",
   "metadata": {},
   "outputs": [],
   "source": [
    "# creating the scaled dataframe with clustered features\n",
    "scaled_df = p.wine_df_scaled(wine)"
   ]
  },
  {
   "cell_type": "code",
   "execution_count": null,
   "id": "08621c37",
   "metadata": {},
   "outputs": [],
   "source": [
    "# splitting data into train, validate, test splits\n",
    "train, val, test, X_train, y_train, X_val, y_val, X_test, y_test = nl.train_vailidate_test_split(scaled_df, 'is_good')"
   ]
  },
  {
   "cell_type": "code",
   "execution_count": null,
   "id": "9430f82a",
   "metadata": {},
   "outputs": [],
   "source": [
    "# Start with the baseline\n",
    "train['baseline'] = 1\n",
    "len(train.is_good[train.is_good == 1])/len(train)"
   ]
  },
  {
   "cell_type": "markdown",
   "id": "c3904a93",
   "metadata": {},
   "source": [
    "# KNN Model"
   ]
  },
  {
   "cell_type": "code",
   "execution_count": null,
   "id": "6ed4415d",
   "metadata": {},
   "outputs": [],
   "source": [
    "# calling the function for the knn model\n",
    "knn_model_train_val = p.knn_model(X_train, y_train, X_val, y_val)\n",
    "knn_model_train_val"
   ]
  },
  {
   "cell_type": "markdown",
   "id": "e181dd6e",
   "metadata": {},
   "source": [
    "- KNN model performed better than the baseline on train and validate"
   ]
  },
  {
   "cell_type": "markdown",
   "id": "ad9c3120",
   "metadata": {},
   "source": [
    "# Random Forrest Model"
   ]
  },
  {
   "cell_type": "code",
   "execution_count": null,
   "id": "5cd2643b",
   "metadata": {},
   "outputs": [],
   "source": [
    "# Calling the function for the random forrest model\n",
    "rf_model_train_val = p.rf_model(X_train, y_train, X_val, y_val)\n",
    "rf_model_train_val"
   ]
  },
  {
   "cell_type": "markdown",
   "id": "ff46e6a6",
   "metadata": {},
   "source": [
    "- Random Forrest performed better than the baseline on train and validate."
   ]
  },
  {
   "cell_type": "markdown",
   "id": "4603cefe",
   "metadata": {},
   "source": [
    "# Decision Tree Model"
   ]
  },
  {
   "cell_type": "code",
   "execution_count": null,
   "id": "fd6de240",
   "metadata": {},
   "outputs": [],
   "source": [
    "# Calling the function for the decision tree model\n",
    "dt_model_train_val = p.dt_model(X_train, y_train, X_val, y_val)\n",
    "dt_model_train_val"
   ]
  },
  {
   "cell_type": "markdown",
   "id": "806e85e1",
   "metadata": {},
   "source": [
    "- Decision Tree Model performed better than the baseline on train and validate."
   ]
  },
  {
   "cell_type": "markdown",
   "id": "80633e60",
   "metadata": {},
   "source": [
    "# Comparing Models\n",
    "\n",
    "- All three models performed better than the baseline on train and validate.\n",
    "- All three of the models were similar in their prediction accuracies and could move forward with any of the models, however decision tree and random forest performed slightly better than knn.\n",
    "- I have chosen to move forward with the Decision Tree model because it performed better on validate than random forrest."
   ]
  },
  {
   "cell_type": "markdown",
   "id": "4ccea4d9",
   "metadata": {},
   "source": [
    "# Decsion Tree on Test"
   ]
  },
  {
   "cell_type": "code",
   "execution_count": null,
   "id": "bc68ac02",
   "metadata": {},
   "outputs": [],
   "source": [
    "# Calling the function for the Decision Tree test model\n",
    "dt_model_test = p.dt_model_test(X_test, y_test, X_train, y_train)\n",
    "dt_model_test"
   ]
  },
  {
   "cell_type": "markdown",
   "id": "aa6b2a64",
   "metadata": {},
   "source": [
    "The Decision Tree model performs better than baseline on test with an accuracy of 71% compared to the baseline with 64%.\n"
   ]
  },
  {
   "cell_type": "markdown",
   "id": "c3c37d72",
   "metadata": {},
   "source": [
    "## Modeling Summary\n",
    "\n",
    "- All three of the models performed better than the baseline on train and validate.\n",
    "- A Decision Tree model was selected as the final model and performed better than the baseline."
   ]
  },
  {
   "cell_type": "markdown",
   "id": "838efb06",
   "metadata": {},
   "source": [
    "# Conclusions\n",
    "\n",
    "## Exploration\n",
    "\n",
    "- The higer the content of alcohol, the more likely that the wine is selected as quality 6 or higher.\n",
    "\n",
    "- The middle levels of density produce the most good wines, but a majority of the wines have low to mid levels of density.\n",
    "\n",
    "- Although the stats test failed to reject the null, the strong visualtion and clustering sugar with density produces sufficient evidence to include this feature in the model.\n",
    "\n",
    "- The lower the acidity levels the more good quality wine that is produced."
   ]
  },
  {
   "cell_type": "markdown",
   "id": "efd838be",
   "metadata": {},
   "source": [
    "# Modeling\n",
    "\n",
    "***The final model outperformed the baseline. Possible reasons include:***\n",
    "\n",
    "- Setting the quality of \"good\" wines at six or above provided the sufficient amount of data to make more accurate predictions on the final database.\n",
    "- The features that were included and clustering those features strengthened the final models and may have increased the efficiency of the final test model."
   ]
  },
  {
   "cell_type": "markdown",
   "id": "83ac67fc",
   "metadata": {},
   "source": [
    "# Recommendations \n",
    "\n",
    "- In order for the quality of the wine to achieve a score of six or higher the alcohol content should be increased versus lower the content level of the alcohol.\n",
    "- The acidity level of the wine should be lower to increase the liklihood that the quality of the wine will be six or higher.\n",
    "- Sugar in comination with density should be lower to increase the quality level of the wine."
   ]
  },
  {
   "cell_type": "markdown",
   "id": "73594cea",
   "metadata": {},
   "source": [
    "# Next Steps\n",
    "\n",
    "- Looking at what features drive lower wine quality could provide some useful insights into what to avoid when trying to produce higher quality wine.\n",
    "- More data on the location of where the wine is produced, the price of the wine, and what types of grapes are used could be useful in determining the quality of the wine."
   ]
  }
 ],
 "metadata": {
  "kernelspec": {
   "display_name": "Python 3 (ipykernel)",
   "language": "python",
   "name": "python3"
  },
  "language_info": {
   "codemirror_mode": {
    "name": "ipython",
    "version": 3
   },
   "file_extension": ".py",
   "mimetype": "text/x-python",
   "name": "python",
   "nbconvert_exporter": "python",
   "pygments_lexer": "ipython3",
   "version": "3.9.13"
  }
 },
 "nbformat": 4,
 "nbformat_minor": 5
}
