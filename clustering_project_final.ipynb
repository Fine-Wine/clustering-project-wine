{
 "cells": [
  {
   "cell_type": "markdown",
   "id": "6cca5c5a",
   "metadata": {},
   "source": [
    "# Fine Wine"
   ]
  },
  {
   "cell_type": "markdown",
   "id": "a3da9eea",
   "metadata": {},
   "source": [
    "# Goal:\n",
    "\n",
    "- Construct an ML Regression model that predicts wine quality using features of white and red wines.\n",
    "\n",
    "- Find the key drivers of wine quality. \n",
    "\n",
    "- Deliver a report that explains what steps were taken, why and what the outcome was.\n",
    "\n",
    "- Make recommendations on what works or doesn't work in predicting wine quality."
   ]
  },
  {
   "cell_type": "code",
   "execution_count": 1,
   "id": "a57f7764",
   "metadata": {},
   "outputs": [],
   "source": [
    "#standard DS imports\n",
    "import pandas as pd\n",
    "import numpy as np\n",
    "import matplotlib.pyplot as plt\n",
    "import seaborn as sns\n",
    "import os\n",
    "from scipy import stats\n",
    "import math\n",
    "from math import sqrt\n",
    "import random\n",
    "\n",
    "#sklearn imports\n",
    "from sklearn.model_selection import train_test_split\n",
    "import sklearn.preprocessing\n",
    "from sklearn.feature_selection import SelectKBest, f_regression, RFE\n",
    "from sklearn.linear_model import LinearRegression\n",
    "from sklearn.preprocessing import MinMaxScaler\n",
    "from sklearn.impute import SimpleImputer\n",
    "from sklearn.metrics import mean_squared_error\n",
    "from sklearn.linear_model import LassoLars\n",
    "from sklearn.preprocessing import PolynomialFeatures\n",
    "from sklearn.linear_model import TweedieRegressor\n",
    "\n",
    "#custom imports\n",
    "\n",
    "import acquire\n",
    "# import prepare\n",
    "\n",
    "#filter out any noisy warning flags\n",
    "import warnings\n",
    "warnings.filterwarnings('ignore')\n",
    "\n",
    "# setting the seed\n",
    "a = random.seed(123)"
   ]
  },
  {
   "cell_type": "markdown",
   "id": "74083452",
   "metadata": {},
   "source": [
    "# Acquire\n",
    "\n",
    "- Data acquired from P. Cortez, A. Cerdeira, F. Almeida, T. Matos and J. Reis.\n",
    "    Modeling wine preferences by data mining from physicochemical properties.\n",
    "    In Decision Support Systems, Elsevier, 47(4):547-553. ISSN: 0167-9236.\n",
    "- It contained 6497 rows and 13 columns before cleaning\n",
    "- Each row represents a white or red wine\n",
    "- Each column represents information about the red or white wine"
   ]
  },
  {
   "cell_type": "code",
   "execution_count": 2,
   "id": "1e05e3e8",
   "metadata": {},
   "outputs": [],
   "source": [
    "# Acquire Step\n",
    "wine_df = acquire.get_wine_data()"
   ]
  },
  {
   "cell_type": "markdown",
   "id": "3b9b90d3",
   "metadata": {},
   "source": [
    "# Prepare\n",
    "\n",
    "Prepare Actions:\n",
    "\n",
    "Dropped unnecessary columns  \n",
    "Renamed confusing columns  \n",
    "Dropped duplicate columns  \n",
    "Replaced null values \n",
    "Eliminated outliers   \n",
    "Dropped null values  \n",
    "split the data  "
   ]
  },
  {
   "cell_type": "code",
   "execution_count": null,
   "id": "0c49cf46",
   "metadata": {},
   "outputs": [],
   "source": [
    "train, validate, test = prepare.prep_wine(df)"
   ]
  },
  {
   "cell_type": "markdown",
   "id": "ca8961a1",
   "metadata": {},
   "source": [
    "# Data Dictionary"
   ]
  },
  {
   "cell_type": "markdown",
   "id": "64fe73bd",
   "metadata": {},
   "source": [
    "| Feature | Definition |\n",
    "|:--------|:-----------|\n",
    "|'airconditioningtypeid'|\t Type of cooling system present in the home (if any)|\n",
    "|'architecturalstyletypeid'|\tArchitectural style of the home (i.e. ranch, colonial, split-level, etc…)|\n",
    "|'basementsqft'| Finished living area below or partially below ground level|\n",
    "|'bathroomcnt'|\tNumber of bathrooms in home including fractional bathrooms|\n",
    "|'bedroomcnt'|\tNumber of bedrooms in home| \n",
    "|'buildingqualitytypeid'|\t|Overall assessment of condition of the building from best (lowest) to worst (highest)|\n",
    "|'buildingclasstypeid'|\tThe building framing type (steel frame, wood frame, concrete/brick)| \n",
    "|'calculatedbathnbr'|\tNumber of bathrooms in home including fractional bathroom|\n",
    "|'decktypeid'|\tType of deck (if any) present on parcel|\n",
    "|'threequarterbathnbr'|\tNumber of 3/4 bathrooms in house (shower + sink + toilet)|\n",
    "|'finishedfloor1squarefeet'|\tSize of the finished living area on the first (entry) floor of the home|\n",
    "|'calculatedfinishedsquarefeet'|\tCalculated total finished living area of the home| \n",
    "|'finishedsquarefeet6'|\tBase unfinished and finished area|\n",
    "|'finishedsquarefeet12'|\tFinished living area|\n",
    "|'finishedsquarefeet13'|\tPerimeter  living area|\n",
    "|'finishedsquarefeet15'|\tTotal area|"
   ]
  },
  {
   "cell_type": "markdown",
   "id": "998f3773",
   "metadata": {},
   "source": [
    "## A brief look at the data"
   ]
  },
  {
   "cell_type": "code",
   "execution_count": null,
   "id": "47de26c8",
   "metadata": {},
   "outputs": [],
   "source": [
    "# Looking at the cleaned up columns\n",
    "train.head()"
   ]
  },
  {
   "cell_type": "markdown",
   "id": "3546b0c0",
   "metadata": {},
   "source": [
    "# Explore\n",
    "\n",
    "Questions asked:\n",
    "\n",
    "    1) Does...\n",
    "    \n",
    "    2) What...\n",
    "    \n",
    "    3) Does...\n",
    "    \n",
    "    4) Is..."
   ]
  },
  {
   "cell_type": "code",
   "execution_count": null,
   "id": "198ae915",
   "metadata": {},
   "outputs": [],
   "source": [
    "hm_visual = prepare.visual_correlations(train)\n",
    "hm_visual"
   ]
  },
  {
   "cell_type": "markdown",
   "id": "ff891452",
   "metadata": {},
   "source": [
    "***Takeaway:***\n",
    "\n"
   ]
  },
  {
   "cell_type": "markdown",
   "id": "ac91381e",
   "metadata": {},
   "source": [
    "## 1) Does..."
   ]
  },
  {
   "cell_type": "code",
   "execution_count": null,
   "id": "261a6045",
   "metadata": {},
   "outputs": [],
   "source": [
    "# Visualization for square footage\n",
    "square_foot_relplot = prepare.sq_ft_visual(train)\n",
    "square_foot_relplot"
   ]
  },
  {
   "cell_type": "markdown",
   "id": "2cb92b6b",
   "metadata": {},
   "source": [
    "- As...\n",
    "\n",
    "\n",
    "H_0:   \n",
    "\n",
    "H_a: "
   ]
  },
  {
   "cell_type": "code",
   "execution_count": null,
   "id": "defec0a8",
   "metadata": {},
   "outputs": [],
   "source": [
    "# Running a spearmanr statistical test to check for correlation and have more confidence\n",
    "sq_footage_stat_test = prepare.eval_result(train)\n",
    "sq_footage_stat_test"
   ]
  },
  {
   "cell_type": "markdown",
   "id": "b7962131",
   "metadata": {},
   "source": [
    "***Takeaway:***"
   ]
  },
  {
   "cell_type": "markdown",
   "id": "c5feecbb",
   "metadata": {},
   "source": [
    "## 2) What..."
   ]
  },
  {
   "cell_type": "code",
   "execution_count": null,
   "id": "55c5076d",
   "metadata": {},
   "outputs": [],
   "source": [
    "# Visualization to show optimal number of bedrooms.\n",
    "bed_barplot = prepare.bed_visual(train)\n",
    "bed_barplot"
   ]
  },
  {
   "cell_type": "markdown",
   "id": "2e1a9ca3",
   "metadata": {},
   "source": [
    "- As...\n",
    "- Although...\n",
    "\n",
    "H_0:   \n",
    "\n",
    "H_a: "
   ]
  },
  {
   "cell_type": "code",
   "execution_count": null,
   "id": "a4ad26c4",
   "metadata": {},
   "outputs": [],
   "source": [
    "# Running a spearmanr statistical test to check for correlation and have more confidence\n",
    "bedrooms_stat_test = prepare.eval_result2(train)\n",
    "bedrooms_stat_test"
   ]
  },
  {
   "cell_type": "markdown",
   "id": "ee99ce9c",
   "metadata": {},
   "source": [
    "***Takeaway:***"
   ]
  },
  {
   "cell_type": "markdown",
   "id": "0744f283",
   "metadata": {},
   "source": [
    "## 3) Does..."
   ]
  },
  {
   "cell_type": "code",
   "execution_count": null,
   "id": "abff6cc6",
   "metadata": {},
   "outputs": [],
   "source": [
    "# Visualization to show number of bathrooms that affect property value.\n",
    "bath_barplot = prepare.bath_visual(train)\n",
    "bath_barplot"
   ]
  },
  {
   "cell_type": "markdown",
   "id": "46e328be",
   "metadata": {},
   "source": [
    "- The...\n",
    "- The...\n",
    "- From...\n",
    "\n",
    "H_0: \n",
    "\n",
    "H_a: "
   ]
  },
  {
   "cell_type": "code",
   "execution_count": null,
   "id": "8f05c9ab",
   "metadata": {},
   "outputs": [],
   "source": [
    "# Running a spearmanr statistical test to check for correlation and have more confidence\n",
    "bathrooms_stat_test = prepare.eval_result3(train)\n",
    "bathrooms_stat_test"
   ]
  },
  {
   "cell_type": "markdown",
   "id": "9882f494",
   "metadata": {},
   "source": [
    "***Takeaway:***"
   ]
  },
  {
   "cell_type": "markdown",
   "id": "8db4ee90",
   "metadata": {},
   "source": [
    "## 4) Is..."
   ]
  },
  {
   "cell_type": "code",
   "execution_count": null,
   "id": "d3f3cd5d",
   "metadata": {},
   "outputs": [],
   "source": [
    "# Visualization to show the optimal square footage to maximize property value\n",
    "opt_sq_barplot = prepare.opt_sf_visual(train)\n",
    "opt_sq_barplot"
   ]
  },
  {
   "cell_type": "markdown",
   "id": "cac064b4",
   "metadata": {},
   "source": [
    "- After...\n",
    "- The...\n",
    "- The...\n",
    "- The...\n",
    "\n",
    "H_0:  \n",
    "\n",
    "H_a: "
   ]
  },
  {
   "cell_type": "code",
   "execution_count": null,
   "id": "40054441",
   "metadata": {},
   "outputs": [],
   "source": [
    "# Running an independent t-test statistical test to compare proportions and have more confidence\n",
    "optimal_sf_stat_test = prepare.eval_result4(train)\n",
    "optimal_sf_stat_test"
   ]
  },
  {
   "cell_type": "markdown",
   "id": "47e6ac31",
   "metadata": {},
   "source": [
    "***Takeaway:***"
   ]
  },
  {
   "cell_type": "markdown",
   "id": "af421f90",
   "metadata": {},
   "source": [
    "# Exploration Summary"
   ]
  },
  {
   "cell_type": "markdown",
   "id": "5af6f42d",
   "metadata": {},
   "source": [
    "- While...\n",
    "- There is...\n",
    "- The...\n",
    "- The..."
   ]
  },
  {
   "cell_type": "markdown",
   "id": "db651261",
   "metadata": {},
   "source": [
    "# Features I am moving to modeling With"
   ]
  },
  {
   "cell_type": "markdown",
   "id": "9af6f6e2",
   "metadata": {},
   "source": [
    "- \"\" (moderate correlation, had the strongest correlation)\n",
    "- \"\" (slight correlation with, but enough to move forward)\n",
    "- \"\" (moderate correlation with)\n",
    "- \"\" (moderate negative correlation with)\n",
    "- moving forward with all other features listed in the train dataframe as well. Further testing might eliminate some of these features."
   ]
  },
  {
   "cell_type": "markdown",
   "id": "c611c697",
   "metadata": {},
   "source": [
    "# Features I'm not moving to modeling with"
   ]
  },
  {
   "cell_type": "markdown",
   "id": "afc832dc",
   "metadata": {},
   "source": [
    "- The optimal..."
   ]
  },
  {
   "cell_type": "markdown",
   "id": "40e58bf0",
   "metadata": {},
   "source": [
    "# Modeling\n",
    "\n",
    "- The mean on train and validate will be the baseline I use for this project\n",
    "- I will be evaluating models developed using four different model types and various hyperparameter configurations \n",
    "- Models will be evaluated on train and validate data \n",
    "- The model that performs the best will then be evaluated on test data. \n",
    "- The _______ model produced the best results."
   ]
  },
  {
   "cell_type": "code",
   "execution_count": null,
   "id": "71f19450",
   "metadata": {},
   "outputs": [],
   "source": [
    "# Function for creating the X_train, y_train, X_validate, y_validate, X_test, y_test, and\n",
    "# checking the shape.\n",
    "X_train, y_train, X_validate, y_validate, X_test, y_test = prepare.X_y_split(train, 'property_value')"
   ]
  },
  {
   "cell_type": "code",
   "execution_count": null,
   "id": "fcb73e41",
   "metadata": {},
   "outputs": [],
   "source": [
    "# Scale the data\n",
    "train_scaled, validate_scaled, test_scaled = prepare.scale_data(train, \n",
    "               validate, \n",
    "               test, \n",
    "               columns_to_scale=['bedrooms', 'bathrooms', 'square_footage', 'property_value', 'year_built', 'fire_place', 'garage', 'hottub_spa', 'lot_size', 'pools', 'zip_code', 'stories', 'optimal_sf'],\n",
    "               return_scaler=False)\n",
    "\n",
    "train_scaled.shape, validate_scaled.shape, test_scaled.shape"
   ]
  },
  {
   "cell_type": "code",
   "execution_count": null,
   "id": "b6b4b3d7",
   "metadata": {},
   "outputs": [],
   "source": [
    "# Feture engineering usings RFE to confirm best features.\n",
    "feature_ranks = prepare.rfe(X_train, y_train, 4)\n",
    "feature_ranks"
   ]
  },
  {
   "cell_type": "code",
   "execution_count": null,
   "id": "1f09fbda",
   "metadata": {},
   "outputs": [],
   "source": [
    "# Start with the baseline\n",
    "baseline = prepare.baseline(y_train, y_validate)\n",
    "baseline"
   ]
  },
  {
   "cell_type": "markdown",
   "id": "29c5dabe",
   "metadata": {},
   "source": [
    "# Linear Regression Model"
   ]
  },
  {
   "cell_type": "code",
   "execution_count": null,
   "id": "4e1cf661",
   "metadata": {},
   "outputs": [],
   "source": [
    "# calling the function for the linear regression model\n",
    "lr_model = prepare.linear_reg_model(X_train, y_train, y_validate, X_validate)\n",
    "lr_model"
   ]
  },
  {
   "cell_type": "markdown",
   "id": "f2abe74e",
   "metadata": {},
   "source": [
    "- Linear regression model performed better than the baseline on train and validate"
   ]
  },
  {
   "cell_type": "markdown",
   "id": "cd65d283",
   "metadata": {},
   "source": [
    "# Lasso-Lars Model"
   ]
  },
  {
   "cell_type": "code",
   "execution_count": null,
   "id": "1c09aaef",
   "metadata": {},
   "outputs": [],
   "source": [
    "# Calling the function for the lasso-lars model\n",
    "ll_model = prepare.lasso_lars_model(X_train, y_train, y_validate, X_validate)\n",
    "ll_model"
   ]
  },
  {
   "cell_type": "markdown",
   "id": "49e001e0",
   "metadata": {},
   "source": [
    "- Lasso Lars Model performed better than the baseline on train and validate."
   ]
  },
  {
   "cell_type": "markdown",
   "id": "042bc437",
   "metadata": {},
   "source": [
    "# Polynomial Model"
   ]
  },
  {
   "cell_type": "code",
   "execution_count": null,
   "id": "ea0a764e",
   "metadata": {},
   "outputs": [],
   "source": [
    "# Calling the function for the polynomial model\n",
    "pf_model = prepare.poly_model(X_train, y_train, y_validate, X_validate)\n",
    "pf_model"
   ]
  },
  {
   "cell_type": "markdown",
   "id": "5726916e",
   "metadata": {},
   "source": [
    "- Polynomial Model performed better than the baseline on train and validate."
   ]
  },
  {
   "cell_type": "markdown",
   "id": "3e391f5b",
   "metadata": {},
   "source": [
    "# Comparing Models\n",
    "\n",
    "- The linear Regression, Lasso-Lars, and Polynomial models all performed better than the baseline.\n",
    "- The Polynomial model performed the best on train and validate of all the models.\n",
    "- I have chosen to move forward with the Polynomial model because it performed better on the validate data."
   ]
  },
  {
   "cell_type": "markdown",
   "id": "00e8ea6e",
   "metadata": {},
   "source": [
    "# Polynomial on Test"
   ]
  },
  {
   "cell_type": "code",
   "execution_count": null,
   "id": "57317bf7",
   "metadata": {},
   "outputs": [],
   "source": [
    "# Calling the function for the Polynomial test model\n",
    "p_test_model = prepare.poly_test_model(X_test, y_test)\n",
    "p_test_model"
   ]
  },
  {
   "cell_type": "markdown",
   "id": "70f4ea9e",
   "metadata": {},
   "source": [
    "Model RMSE:  \n",
    "Baseline RMSE:  \n",
    "\n",
    "My Polynomial model performs better than baseline.\n"
   ]
  },
  {
   "cell_type": "markdown",
   "id": "821f4c25",
   "metadata": {},
   "source": [
    "## Modeling Summary\n",
    "\n",
    "- All three of the models performed better than the baseline on train and validate.\n",
    "- A Polynomial model was selected as the final model and had a better error of prediction than the baseline."
   ]
  },
  {
   "cell_type": "markdown",
   "id": "5d8a8047",
   "metadata": {},
   "source": [
    "# Conclusions\n",
    "\n",
    "## Exploration\n",
    "\n",
    "- Top three features with strongest correlation...\n",
    "    - _______ has the strongest correlation of all the features.\n",
    "- There is a moderate corellation between...\n",
    "    - Further investigation into _________ is necessary in determing....\n",
    "- There is a slight correlation between...\n",
    "- The optimal...\n",
    "- The optimal..."
   ]
  },
  {
   "cell_type": "markdown",
   "id": "eff8b215",
   "metadata": {},
   "source": [
    "# Modeling\n",
    "\n",
    "***The final model outperformed the baseline. Possible reasons include:***\n",
    "\n",
    "- Adding...\n",
    "- The features that were included..."
   ]
  },
  {
   "cell_type": "markdown",
   "id": "9fc06f58",
   "metadata": {},
   "source": [
    "# Recommendations (MAKE SURE THESE ARE RELATED TO ACTIONABLE SUGGESTIONS, NOT BASED ON THE CODE OR EXPLORATION OF THE DATA)\n",
    "\n",
    "- The...\n",
    "- The...\n",
    "- The..."
   ]
  },
  {
   "cell_type": "markdown",
   "id": "c9bb612d",
   "metadata": {},
   "source": [
    "# Next Steps\n",
    "\n",
    "- Target...\n",
    "- Analyze other features with visualizations and statistical tests, such as...\n",
    "- A deeper investigation into..."
   ]
  },
  {
   "cell_type": "code",
   "execution_count": null,
   "id": "95fc5d77",
   "metadata": {},
   "outputs": [],
   "source": []
  }
 ],
 "metadata": {
  "kernelspec": {
   "display_name": "Python 3 (ipykernel)",
   "language": "python",
   "name": "python3"
  },
  "language_info": {
   "codemirror_mode": {
    "name": "ipython",
    "version": 3
   },
   "file_extension": ".py",
   "mimetype": "text/x-python",
   "name": "python",
   "nbconvert_exporter": "python",
   "pygments_lexer": "ipython3",
   "version": "3.9.13"
  }
 },
 "nbformat": 4,
 "nbformat_minor": 5
}
